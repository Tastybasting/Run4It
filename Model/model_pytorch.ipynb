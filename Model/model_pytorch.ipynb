{
    "metadata": {
        "kernelspec": {
            "name": "python3",
            "display_name": "Python 3",
            "language": "python"
        },
        "language_info": {
            "name": "python",
            "version": "3.6.6",
            "mimetype": "text/x-python",
            "codemirror_mode": {
                "name": "ipython",
                "version": 3
            },
            "pygments_lexer": "ipython3",
            "nbconvert_exporter": "python",
            "file_extension": ".py"
        }
    },
    "nbformat_minor": 2,
    "nbformat": 4,
    "cells": [
        {
            "cell_type": "markdown",
            "source": [
                "## Predictive Model \n",
                "\n",
                "We use the Samsung health dataset to train and predict future walking/jogging distances of a given user. This will help inform whether the user is on track to meet their goal by a given time-frame. \n",
                "\n",
                "  \n",
                "\n",
                "The predictive model is created using pyTorch."
            ],
            "metadata": {
                "azdata_cell_guid": "56fc4761-1961-49fa-b0dc-a37c7dbf344c"
            }
        },
        {
            "cell_type": "code",
            "source": [
                "# imports\n",
                "import pandas as pd \n",
                "import matplotlib.pyplot as plt\n",
                "import pytorch_lightning as pl\n",
                "import torch\n",
                "from pytorch_lightning.callbacks import EarlyStopping, LearningRateMonitor\n",
                "from pytorch_forecasting.metrics import RMSE\n",
                "from pytorch_forecasting import TimeSeriesDataSet, TemporalFusionTransformer, Baseline\n",
                "from sklearn.preprocessing import StandardScaler\n",
                "plt.rcParams['figure.figsize'] = [12, 8]"
            ],
            "metadata": {
                "azdata_cell_guid": "348ec801-6feb-436a-b5bd-2a9aacf9ccc1",
                "tags": []
            },
            "outputs": [],
            "execution_count": 180
        },
        {
            "cell_type": "code",
            "source": [
                "# Feature engineering -- revisit to add features relating to special ocassions, i.e. new year \n",
                "\n",
                "data = pd.read_csv('Data/samsung_dataset.csv')\n",
                "\n",
                "#data['date'] = pd.to_datetime(data['date'], format='%Y-%m-%d')3\n",
                "#data['month'] = data.date.dt.month.astype(str).astype('category')\n",
                "#data[\"year\"] = data.date.dt.year.astype(str).astype('category')\n",
                "data['time_idx'] = data.index.values\n",
                "data['group'] = 0\n",
                "data.drop(['date'], axis=1, inplace=True)\n",
                "data.head()"
            ],
            "metadata": {
                "azdata_cell_guid": "b9aeb220-89c2-4bf8-aa01-fe4c249dedd4"
            },
            "outputs": [
                {
                    "data": {
                        "text/plain": "   com.samsung.health.heart_rate.heart_rate  run_step_count  walk_step_count  \\\n0                                 81.714286             9.0            971.0   \n1                                 78.913043            53.0           1450.0   \n2                                 76.300000            13.0           2291.0   \n3                                 80.461538            64.0           3738.0   \n4                                 76.619048           186.0           5814.0   \n\n      speed  distance  calorie  efficiency  time_idx  group  \n0  1.726896   726.070    35.63        87.0         0      0  \n1  1.848388  1117.430    57.55        83.5         1      0  \n2  2.110930  1728.260    85.76        85.5         2      0  \n3  4.112905  2843.930   142.51        85.5         3      0  \n4  2.564951  4516.562   229.39        85.5         4      0  ",
                        "text/html": "<div>\n<style scoped>\n    .dataframe tbody tr th:only-of-type {\n        vertical-align: middle;\n    }\n\n    .dataframe tbody tr th {\n        vertical-align: top;\n    }\n\n    .dataframe thead th {\n        text-align: right;\n    }\n</style>\n<table border=\"1\" class=\"dataframe\">\n  <thead>\n    <tr style=\"text-align: right;\">\n      <th></th>\n      <th>com.samsung.health.heart_rate.heart_rate</th>\n      <th>run_step_count</th>\n      <th>walk_step_count</th>\n      <th>speed</th>\n      <th>distance</th>\n      <th>calorie</th>\n      <th>efficiency</th>\n      <th>time_idx</th>\n      <th>group</th>\n    </tr>\n  </thead>\n  <tbody>\n    <tr>\n      <th>0</th>\n      <td>81.714286</td>\n      <td>9.0</td>\n      <td>971.0</td>\n      <td>1.726896</td>\n      <td>726.070</td>\n      <td>35.63</td>\n      <td>87.0</td>\n      <td>0</td>\n      <td>0</td>\n    </tr>\n    <tr>\n      <th>1</th>\n      <td>78.913043</td>\n      <td>53.0</td>\n      <td>1450.0</td>\n      <td>1.848388</td>\n      <td>1117.430</td>\n      <td>57.55</td>\n      <td>83.5</td>\n      <td>1</td>\n      <td>0</td>\n    </tr>\n    <tr>\n      <th>2</th>\n      <td>76.300000</td>\n      <td>13.0</td>\n      <td>2291.0</td>\n      <td>2.110930</td>\n      <td>1728.260</td>\n      <td>85.76</td>\n      <td>85.5</td>\n      <td>2</td>\n      <td>0</td>\n    </tr>\n    <tr>\n      <th>3</th>\n      <td>80.461538</td>\n      <td>64.0</td>\n      <td>3738.0</td>\n      <td>4.112905</td>\n      <td>2843.930</td>\n      <td>142.51</td>\n      <td>85.5</td>\n      <td>3</td>\n      <td>0</td>\n    </tr>\n    <tr>\n      <th>4</th>\n      <td>76.619048</td>\n      <td>186.0</td>\n      <td>5814.0</td>\n      <td>2.564951</td>\n      <td>4516.562</td>\n      <td>229.39</td>\n      <td>85.5</td>\n      <td>4</td>\n      <td>0</td>\n    </tr>\n  </tbody>\n</table>\n</div>"
                    },
                    "metadata": {},
                    "execution_count": 158,
                    "output_type": "execute_result"
                }
            ],
            "execution_count": 158
        },
        {
            "cell_type": "code",
            "source": [
                "# Reshape data so that it is ready for pytorch \n",
                "nums = ['heart_rate', 'run_step_count', 'walk_step_count', 'speed', 'distance', 'calorie', 'efficiency']\n",
                "data.columns = nums + ['time_idx', 'group']\n",
                "#data = data.melt(id_vars=['date', 'time_idx'], var_name='feature', value_name='values')\n",
                "#data['feature'] = data['feature'].astype('category')\n",
                "#data.drop(['date'], axis=1, inplace=True)\n",
                "#data.info()\n",
                "#"
            ],
            "metadata": {
                "azdata_cell_guid": "96212c8f-e06d-441d-9654-6d2039cb95a3"
            },
            "outputs": [],
            "execution_count": 159
        },
        {
            "cell_type": "code",
            "source": [
                "# define pytorch TimeSeriesDataset\n",
                "max_encoder_length = 7\n",
                "max_prediction_length = 7\n",
                "training_cutoff = 250  # day for cutoff\n",
                "std = StandardScaler()\n",
                "std.fit(data[nums][lambda x: x.index < training_cutoff])\n",
                "data_nums = pd.DataFrame(std.transform(data[nums]), columns=nums)\n",
                "\n",
                "data = pd.concat([data_nums, data[['time_idx', 'group']]], axis=1)\n",
                "print(data.head())\n",
                "\n",
                "training = TimeSeriesDataSet(\n",
                "    data[lambda x: x.time_idx < training_cutoff],\n",
                "    time_idx= 'time_idx',\n",
                "    target='distance',\n",
                "    # weight=\"weight\",\n",
                "    group_ids=['group'],\n",
                "    min_encoder_length=max_encoder_length // 2,  # keep encoder length long (as it is in the validation set)\n",
                "    max_encoder_length=max_encoder_length,\n",
                "    min_prediction_length=1,\n",
                "    max_prediction_length=max_prediction_length,\n",
                "    time_varying_unknown_reals=['run_step_count', 'walk_step_count', 'speed', 'distance', 'calorie', 'efficiency', 'heart_rate'],\n",
                "    time_varying_known_reals=['time_idx']\n",
                ")"
            ],
            "metadata": {
                "azdata_cell_guid": "1b40b37f-1bba-459a-acd1-de1afb46e1e2"
            },
            "outputs": [
                {
                    "name": "stdout",
                    "text": "   heart_rate  run_step_count  walk_step_count     speed  distance   calorie  \\\n0    0.934883       -1.017947        -1.928717 -0.164624 -1.922089 -1.964694   \n1    0.132718        0.174706        -1.755946  0.028826 -1.731415 -1.756448   \n2   -0.615554       -0.909524        -1.452604  0.446869 -1.433814 -1.488445   \n3    0.576146        0.472869        -0.930684  3.634600 -0.890250 -0.949303   \n4   -0.524191        3.779771        -0.181888  1.169804 -0.075331 -0.123918   \n\n   efficiency  time_idx  group  \n0    0.156332         0      0  \n1   -0.881662         1      0  \n2   -0.288523         2      0  \n3   -0.288523         3      0  \n4   -0.288523         4      0  \n",
                    "output_type": "stream"
                }
            ],
            "execution_count": 193
        },
        {
            "cell_type": "code",
            "source": [
                " # ------ Data Loaders ----------------\n",
                " # last max_prediction_length points in time for each series\n",
                " validation = TimeSeriesDataSet.from_dataset(\n",
                "     training, data, predict=True, stop_randomization=True\n",
                " )\n",
                " # create dataloaders for model\n",
                " batch_size = 128\n",
                " train_dataloader = training.to_dataloader(\n",
                "     train=True, batch_size=batch_size, num_workers=12\n",
                " )\n",
                " val_dataloader = validation.to_dataloader(\n",
                "     train=False, batch_size=batch_size * 10, num_workers=12\n",
                " ) "
            ],
            "metadata": {
                "azdata_cell_guid": "e67c8186-cc7d-41d7-a3e0-47ceec663044"
            },
            "outputs": [],
            "execution_count": 194
        },
        {
            "cell_type": "code",
            "source": [
                "# calculate baseline mean absolute error, i.e. persistence forecast\n",
                "actuals = torch.cat([y for x, (y, weight) in iter(val_dataloader)])\n",
                "baseline_predictions = Baseline().predict(val_dataloader)\n",
                "(actuals - baseline_predictions).abs().mean().item()"
            ],
            "metadata": {
                "azdata_cell_guid": "25bd672f-66de-459c-b553-0871d5c046e3"
            },
            "outputs": [
                {
                    "data": {
                        "text/plain": "2.9644954204559326"
                    },
                    "metadata": {},
                    "execution_count": 195,
                    "output_type": "execute_result"
                }
            ],
            "execution_count": 195
        },
        {
            "cell_type": "code",
            "source": [
                "# configure network and trainer\n",
                "pl.seed_everything(42)\n",
                "trainer = pl.Trainer(\n",
                "    gpus=0,\n",
                "    # clipping gradients is a hyperparameter and important to prevent divergance\n",
                "    # of the gradient for recurrent neural networks\n",
                "    gradient_clip_val=0.1,\n",
                ")\n",
                "\n",
                "\n",
                "tft = TemporalFusionTransformer.from_dataset(\n",
                "    training,\n",
                "    # not meaningful for finding the learning rate but otherwise very important\n",
                "    learning_rate=0.03,\n",
                "    hidden_size=16,  # most important hyperparameter apart from learning rate\n",
                "    # number of attention heads. Set to up to 4 for large datasets\n",
                "    attention_head_size=1,\n",
                "    dropout=0.1,  # between 0.1 and 0.3 are good values\n",
                "    hidden_continuous_size=8,  # set to <= hidden_size\n",
                "    output_size=7,  # 7 quantiles by default\n",
                "    loss=QuantileLoss(),\n",
                "    # reduce learning rate if no improvement in validation loss after x epochs\n",
                "    reduce_on_plateau_patience=4,\n",
                ")\n",
                "print(f\"Number of parameters in network: {tft.size()/1e3:.1f}k\")"
            ],
            "metadata": {
                "azdata_cell_guid": "376f7574-1ac9-4568-b69d-b67664358dcf"
            },
            "outputs": [
                {
                    "name": "stderr",
                    "text": "Global seed set to 42\n",
                    "output_type": "stream"
                },
                {
                    "name": "stderr",
                    "text": "GPU available: False, used: False\n",
                    "output_type": "stream"
                },
                {
                    "name": "stderr",
                    "text": "TPU available: None, using: 0 TPU cores\n",
                    "output_type": "stream"
                },
                {
                    "name": "stdout",
                    "text": "Number of parameters in network: 20.4k\n",
                    "output_type": "stream"
                }
            ],
            "execution_count": 196
        },
        {
            "cell_type": "code",
            "source": [
                "# find optimal learning rate\n",
                "res = trainer.tuner.lr_find(\n",
                "    tft,\n",
                "    train_dataloader=train_dataloader,\n",
                "    val_dataloaders=val_dataloader,\n",
                "    max_lr=10.0,\n",
                "    min_lr=1e-6,\n",
                ")\n",
                "\n",
                "print(f\"suggested learning rate: {res.suggestion()}\")\n",
                "fig = res.plot(show=True, suggest=True)\n",
                "fig.show()"
            ],
            "metadata": {
                "azdata_cell_guid": "9ddec6b2-ece2-41f2-9274-c15dde2c8714"
            },
            "outputs": [
                {
                    "name": "stderr",
                    "text": "\n   | Name                               | Type                            | Params\n----------------------------------------------------------------------------------------\n0  | loss                               | QuantileLoss                    | 0     \n1  | logging_metrics                    | ModuleList                      | 0     \n2  | input_embeddings                   | MultiEmbedding                  | 0     \n3  | prescalers                         | ModuleDict                      | 144   \n4  | static_variable_selection          | VariableSelectionNetwork        | 528   \n5  | encoder_variable_selection         | VariableSelectionNetwork        | 5.1 K \n6  | decoder_variable_selection         | VariableSelectionNetwork        | 528   \n7  | static_context_variable_selection  | GatedResidualNetwork            | 1.1 K \n8  | static_context_initial_hidden_lstm | GatedResidualNetwork            | 1.1 K \n9  | static_context_initial_cell_lstm   | GatedResidualNetwork            | 1.1 K \n10 | static_context_enrichment          | GatedResidualNetwork            | 1.1 K \n11 | lstm_encoder                       | LSTM                            | 2.2 K \n12 | lstm_decoder                       | LSTM                            | 2.2 K \n13 | post_lstm_gate_encoder             | GatedLinearUnit                 | 544   \n14 | post_lstm_add_norm_encoder         | AddNorm                         | 32    \n15 | static_enrichment                  | GatedResidualNetwork            | 1.4 K \n16 | multihead_attn                     | InterpretableMultiHeadAttention | 1.1 K \n17 | post_attn_gate_norm                | GateAddNorm                     | 576   \n18 | pos_wise_ff                        | GatedResidualNetwork            | 1.1 K \n19 | pre_output_gate_norm               | GateAddNorm                     | 576   \n20 | output_layer                       | Linear                          | 119   \n----------------------------------------------------------------------------------------\n20.4 K    Trainable params\n0         Non-trainable params\n20.4 K    Total params\n0.082     Total estimated model params size (MB)\n",
                    "output_type": "stream"
                },
                {
                    "name": "stderr",
                    "text": "\rFinding best initial lr:   0%|          | 0/100 [00:00<?, ?it/s]",
                    "output_type": "stream"
                },
                {
                    "name": "stderr",
                    "text": "\rFinding best initial lr:   2%|▏         | 2/100 [00:00<00:09, 10.84it/s]",
                    "output_type": "stream"
                },
                {
                    "name": "stderr",
                    "text": "\rFinding best initial lr:   4%|▍         | 4/100 [00:00<00:19,  4.96it/s]",
                    "output_type": "stream"
                },
                {
                    "name": "stderr",
                    "text": "\rFinding best initial lr:   5%|▌         | 5/100 [00:01<00:25,  3.77it/s]",
                    "output_type": "stream"
                },
                {
                    "name": "stderr",
                    "text": "\rFinding best initial lr:   6%|▌         | 6/100 [00:01<00:20,  4.63it/s]",
                    "output_type": "stream"
                },
                {
                    "name": "stderr",
                    "text": "\rFinding best initial lr:   7%|▋         | 7/100 [00:01<00:26,  3.46it/s]",
                    "output_type": "stream"
                },
                {
                    "name": "stderr",
                    "text": "\rFinding best initial lr:   8%|▊         | 8/100 [00:01<00:21,  4.22it/s]",
                    "output_type": "stream"
                },
                {
                    "name": "stderr",
                    "text": "\rFinding best initial lr:   9%|▉         | 9/100 [00:02<00:28,  3.25it/s]",
                    "output_type": "stream"
                },
                {
                    "name": "stderr",
                    "text": "\rFinding best initial lr:  10%|█         | 10/100 [00:02<00:22,  4.03it/s]",
                    "output_type": "stream"
                },
                {
                    "name": "stderr",
                    "text": "\rFinding best initial lr:  11%|█         | 11/100 [00:02<00:29,  2.99it/s]",
                    "output_type": "stream"
                },
                {
                    "name": "stderr",
                    "text": "\rFinding best initial lr:  12%|█▏        | 12/100 [00:03<00:23,  3.72it/s]",
                    "output_type": "stream"
                },
                {
                    "name": "stderr",
                    "text": "\rFinding best initial lr:  13%|█▎        | 13/100 [00:03<00:28,  3.00it/s]",
                    "output_type": "stream"
                },
                {
                    "name": "stderr",
                    "text": "\rFinding best initial lr:  15%|█▌        | 15/100 [00:04<00:25,  3.31it/s]",
                    "output_type": "stream"
                },
                {
                    "name": "stderr",
                    "text": "\rFinding best initial lr:  17%|█▋        | 17/100 [00:04<00:24,  3.33it/s]",
                    "output_type": "stream"
                },
                {
                    "name": "stderr",
                    "text": "\rFinding best initial lr:  18%|█▊        | 18/100 [00:04<00:21,  3.88it/s]",
                    "output_type": "stream"
                },
                {
                    "name": "stderr",
                    "text": "\rFinding best initial lr:  19%|█▉        | 19/100 [00:05<00:23,  3.44it/s]",
                    "output_type": "stream"
                },
                {
                    "name": "stderr",
                    "text": "\rFinding best initial lr:  21%|██        | 21/100 [00:05<00:20,  3.77it/s]",
                    "output_type": "stream"
                },
                {
                    "name": "stderr",
                    "text": "\rFinding best initial lr:  23%|██▎       | 23/100 [00:06<00:19,  4.00it/s]",
                    "output_type": "stream"
                },
                {
                    "name": "stderr",
                    "text": "\rFinding best initial lr:  25%|██▌       | 25/100 [00:06<00:17,  4.20it/s]",
                    "output_type": "stream"
                },
                {
                    "name": "stderr",
                    "text": "\rFinding best initial lr:  27%|██▋       | 27/100 [00:06<00:17,  4.24it/s]",
                    "output_type": "stream"
                },
                {
                    "name": "stderr",
                    "text": "\rFinding best initial lr:  28%|██▊       | 28/100 [00:07<00:15,  4.70it/s]",
                    "output_type": "stream"
                },
                {
                    "name": "stderr",
                    "text": "\rFinding best initial lr:  29%|██▉       | 29/100 [00:07<00:18,  3.94it/s]",
                    "output_type": "stream"
                },
                {
                    "name": "stderr",
                    "text": "\rFinding best initial lr:  31%|███       | 31/100 [00:07<00:17,  4.01it/s]",
                    "output_type": "stream"
                },
                {
                    "name": "stderr",
                    "text": "\rFinding best initial lr:  33%|███▎      | 33/100 [00:08<00:16,  4.11it/s]",
                    "output_type": "stream"
                },
                {
                    "name": "stderr",
                    "text": "\rFinding best initial lr:  35%|███▌      | 35/100 [00:08<00:15,  4.20it/s]",
                    "output_type": "stream"
                },
                {
                    "name": "stderr",
                    "text": "\rFinding best initial lr:  37%|███▋      | 37/100 [00:09<00:14,  4.28it/s]",
                    "output_type": "stream"
                },
                {
                    "name": "stderr",
                    "text": "\rFinding best initial lr:  39%|███▉      | 39/100 [00:09<00:13,  4.38it/s]",
                    "output_type": "stream"
                },
                {
                    "name": "stderr",
                    "text": "\rFinding best initial lr:  41%|████      | 41/100 [00:10<00:13,  4.35it/s]",
                    "output_type": "stream"
                },
                {
                    "name": "stderr",
                    "text": "\rFinding best initial lr:  43%|████▎     | 43/100 [00:10<00:12,  4.38it/s]",
                    "output_type": "stream"
                },
                {
                    "name": "stderr",
                    "text": "\rFinding best initial lr:  45%|████▌     | 45/100 [00:11<00:12,  4.43it/s]",
                    "output_type": "stream"
                },
                {
                    "name": "stderr",
                    "text": "\rFinding best initial lr:  47%|████▋     | 47/100 [00:11<00:11,  4.45it/s]",
                    "output_type": "stream"
                },
                {
                    "name": "stderr",
                    "text": "\rFinding best initial lr:  49%|████▉     | 49/100 [00:12<00:11,  4.37it/s]",
                    "output_type": "stream"
                },
                {
                    "name": "stderr",
                    "text": "\rFinding best initial lr:  51%|█████     | 51/100 [00:12<00:11,  4.38it/s]",
                    "output_type": "stream"
                },
                {
                    "name": "stderr",
                    "text": "\rFinding best initial lr:  53%|█████▎    | 53/100 [00:12<00:10,  4.42it/s]",
                    "output_type": "stream"
                },
                {
                    "name": "stderr",
                    "text": "\rFinding best initial lr:  55%|█████▌    | 55/100 [00:13<00:10,  4.46it/s]",
                    "output_type": "stream"
                },
                {
                    "name": "stderr",
                    "text": "\rFinding best initial lr:  57%|█████▋    | 57/100 [00:13<00:09,  4.41it/s]",
                    "output_type": "stream"
                },
                {
                    "name": "stderr",
                    "text": "\rFinding best initial lr:  59%|█████▉    | 59/100 [00:14<00:09,  4.34it/s]",
                    "output_type": "stream"
                },
                {
                    "name": "stderr",
                    "text": "\rFinding best initial lr:  61%|██████    | 61/100 [00:14<00:08,  4.37it/s]",
                    "output_type": "stream"
                },
                {
                    "name": "stderr",
                    "text": "\rFinding best initial lr:  63%|██████▎   | 63/100 [00:15<00:08,  4.34it/s]",
                    "output_type": "stream"
                },
                {
                    "name": "stderr",
                    "text": "\rFinding best initial lr:  65%|██████▌   | 65/100 [00:15<00:07,  4.41it/s]",
                    "output_type": "stream"
                },
                {
                    "name": "stderr",
                    "text": "\rFinding best initial lr:  67%|██████▋   | 67/100 [00:16<00:07,  4.46it/s]",
                    "output_type": "stream"
                },
                {
                    "name": "stderr",
                    "text": "\rFinding best initial lr:  69%|██████▉   | 69/100 [00:16<00:06,  4.48it/s]",
                    "output_type": "stream"
                },
                {
                    "name": "stderr",
                    "text": "\rFinding best initial lr:  71%|███████   | 71/100 [00:17<00:06,  4.51it/s]",
                    "output_type": "stream"
                },
                {
                    "name": "stderr",
                    "text": "\rFinding best initial lr:  73%|███████▎  | 73/100 [00:17<00:05,  4.53it/s]",
                    "output_type": "stream"
                },
                {
                    "name": "stderr",
                    "text": "\rFinding best initial lr:  75%|███████▌  | 75/100 [00:17<00:05,  4.56it/s]",
                    "output_type": "stream"
                },
                {
                    "name": "stderr",
                    "text": "\rFinding best initial lr:  77%|███████▋  | 77/100 [00:18<00:05,  4.57it/s]",
                    "output_type": "stream"
                },
                {
                    "name": "stderr",
                    "text": "\rFinding best initial lr:  79%|███████▉  | 79/100 [00:18<00:04,  4.57it/s]",
                    "output_type": "stream"
                },
                {
                    "name": "stderr",
                    "text": "\rFinding best initial lr:  81%|████████  | 81/100 [00:19<00:04,  4.58it/s]",
                    "output_type": "stream"
                },
                {
                    "name": "stderr",
                    "text": "\rFinding best initial lr:  83%|████████▎ | 83/100 [00:19<00:03,  4.57it/s]",
                    "output_type": "stream"
                },
                {
                    "name": "stderr",
                    "text": "\rFinding best initial lr:  85%|████████▌ | 85/100 [00:20<00:03,  4.54it/s]",
                    "output_type": "stream"
                },
                {
                    "name": "stderr",
                    "text": "\rFinding best initial lr:  87%|████████▋ | 87/100 [00:20<00:02,  4.56it/s]",
                    "output_type": "stream"
                },
                {
                    "name": "stderr",
                    "text": "\rFinding best initial lr:  89%|████████▉ | 89/100 [00:20<00:02,  4.56it/s]",
                    "output_type": "stream"
                },
                {
                    "name": "stderr",
                    "text": "\rFinding best initial lr:  91%|█████████ | 91/100 [00:21<00:01,  4.56it/s]",
                    "output_type": "stream"
                },
                {
                    "name": "stderr",
                    "text": "\rFinding best initial lr:  93%|█████████▎| 93/100 [00:21<00:01,  4.54it/s]",
                    "output_type": "stream"
                },
                {
                    "name": "stderr",
                    "text": "\rFinding best initial lr:  95%|█████████▌| 95/100 [00:22<00:01,  4.48it/s]",
                    "output_type": "stream"
                },
                {
                    "name": "stderr",
                    "text": "\rFinding best initial lr:  97%|█████████▋| 97/100 [00:22<00:00,  4.47it/s]",
                    "output_type": "stream"
                },
                {
                    "name": "stderr",
                    "text": "\rFinding best initial lr:  99%|█████████▉| 99/100 [00:23<00:00,  4.49it/s]",
                    "output_type": "stream"
                },
                {
                    "name": "stderr",
                    "text": "Restored states from the checkpoint file at /Users/aayush/Documents/Run4It/Run4It/Model/lr_find_temp_model.ckpt\n",
                    "output_type": "stream"
                },
                {
                    "name": "stdout",
                    "text": "suggested learning rate: 0.07943282347242808\n",
                    "output_type": "stream"
                },
                {
                    "data": {
                        "text/plain": "<Figure size 864x576 with 1 Axes>",
                        "image/png": "[encoded data removed]"
                    },
                    "metadata": {
                        "needs_background": "light"
                    },
                    "output_type": "display_data"
                },
                {
                    "name": "stderr",
                    "text": "/Users/aayush/azuredatastudio-python/0.0.1/lib/python3.6/site-packages/ipykernel_launcher.py:12: UserWarning: Matplotlib is currently using module://ipykernel.pylab.backend_inline, which is a non-GUI backend, so cannot show the figure.\n  if sys.path[0] == '':\n",
                    "output_type": "stream"
                }
            ],
            "execution_count": 197
        },
        {
            "cell_type": "code",
            "source": [
                "# configure network and trainer\n",
                "early_stop_callback = EarlyStopping(monitor=\"val_loss\", min_delta=1e-4, patience=10, verbose=False, mode=\"min\")\n",
                "lr_logger = LearningRateMonitor()  # log the learning rate\n",
                "logger = TensorBoardLogger(\"lightning_logs\")  # logging results to a tensorboard\n",
                "\n",
                "trainer = pl.Trainer(\n",
                "    max_epochs=30,\n",
                "    gpus=0,\n",
                "    weights_summary=\"top\",\n",
                "    gradient_clip_val=0.1,\n",
                "    limit_train_batches=30,  # coment in for training, running valiation every 30 batches\n",
                "    # fast_dev_run=True,  # comment in to check that networkor dataset has no serious bugs\n",
                "    callbacks=[lr_logger, early_stop_callback],\n",
                "    logger=logger,\n",
                ")\n",
                "\n",
                "\n",
                "tft = TemporalFusionTransformer.from_dataset(\n",
                "    training,\n",
                "    learning_rate=0.08,\n",
                "    hidden_size=128,\n",
                "    attention_head_size=16,\n",
                "    dropout=0.1,\n",
                "    hidden_continuous_size=8,\n",
                "    output_size=7,  # 7 quantiles by default\n",
                "    loss=QuantileLoss(),\n",
                "    log_interval=10,  # uncomment for learning rate finder and otherwise, e.g. to 10 for logging every 10 batches\n",
                "    reduce_on_plateau_patience=4,\n",
                ")\n",
                "print(f\"Number of parameters in network: {tft.size()/1e3:.1f}k\")"
            ],
            "metadata": {
                "azdata_cell_guid": "1f825292-3f0c-41b1-b38d-2689bbeecbd3"
            },
            "outputs": [
                {
                    "name": "stderr",
                    "text": "GPU available: False, used: False\n",
                    "output_type": "stream"
                },
                {
                    "name": "stderr",
                    "text": "TPU available: None, using: 0 TPU cores\n",
                    "output_type": "stream"
                },
                {
                    "name": "stdout",
                    "text": "Number of parameters in network: 847.0k\n",
                    "output_type": "stream"
                }
            ],
            "execution_count": 199
        },
        {
            "cell_type": "code",
            "source": [
                "# fit network\n",
                "trainer.fit(\n",
                "    tft,\n",
                "    train_dataloader=train_dataloader,\n",
                "    val_dataloaders=val_dataloader,\n",
                ")"
            ],
            "metadata": {
                "azdata_cell_guid": "dbc51741-f51d-4237-a1b2-cef5367af033"
            },
            "outputs": [
                {
                    "name": "stderr",
                    "text": "\n   | Name                               | Type                            | Params\n----------------------------------------------------------------------------------------\n0  | loss                               | QuantileLoss                    | 0     \n1  | logging_metrics                    | ModuleList                      | 0     \n2  | input_embeddings                   | MultiEmbedding                  | 0     \n3  | prescalers                         | ModuleDict                      | 48    \n4  | static_variable_selection          | VariableSelectionNetwork        | 3.1 K \n5  | encoder_variable_selection         | VariableSelectionNetwork        | 6.5 K \n6  | decoder_variable_selection         | VariableSelectionNetwork        | 3.1 K \n7  | static_context_variable_selection  | GatedResidualNetwork            | 66.3 K\n8  | static_context_initial_hidden_lstm | GatedResidualNetwork            | 66.3 K\n9  | static_context_initial_cell_lstm   | GatedResidualNetwork            | 66.3 K\n10 | static_context_enrichment          | GatedResidualNetwork            | 66.3 K\n11 | lstm_encoder                       | LSTM                            | 132 K \n12 | lstm_decoder                       | LSTM                            | 132 K \n13 | post_lstm_gate_encoder             | GatedLinearUnit                 | 33.0 K\n14 | post_lstm_add_norm_encoder         | AddNorm                         | 256   \n15 | static_enrichment                  | GatedResidualNetwork            | 82.7 K\n16 | multihead_attn                     | InterpretableMultiHeadAttention | 35.1 K\n17 | post_attn_gate_norm                | GateAddNorm                     | 33.3 K\n18 | pos_wise_ff                        | GatedResidualNetwork            | 66.3 K\n19 | pre_output_gate_norm               | GateAddNorm                     | 33.3 K\n20 | output_layer                       | Linear                          | 903   \n----------------------------------------------------------------------------------------\n826 K     Trainable params\n0         Non-trainable params\n826 K     Total params\n3.308     Total estimated model params size (MB)\n",
                    "output_type": "stream"
                },
                {
                    "name": "stdout",
                    "text": "\rValidation sanity check: 0it [00:00, ?it/s]",
                    "output_type": "stream"
                },
                {
                    "name": "stdout",
                    "text": "\rValidation sanity check:   0%|          | 0/1 [00:00<?, ?it/s]",
                    "output_type": "stream"
                },
                {
                    "name": "stdout",
                    "text": "\rValidation sanity check: 100%|██████████| 1/1 [00:00<00:00,  2.48it/s]",
                    "output_type": "stream"
                },
                {
                    "name": "stdout",
                    "text": "\r                                                                      ",
                    "output_type": "stream"
                },
                {
                    "name": "stdout",
                    "text": "\r\rTraining: 0it [00:00, ?it/s]",
                    "output_type": "stream"
                },
                {
                    "name": "stdout",
                    "text": "\rTraining:   0%|          | 0/3 [00:00<?, ?it/s]",
                    "output_type": "stream"
                },
                {
                    "name": "stdout",
                    "text": "\rEpoch 0:   0%|          | 0/3 [00:00<?, ?it/s] ",
                    "output_type": "stream"
                },
                {
                    "name": "stdout",
                    "text": "\rEpoch 0:  33%|███▎      | 1/3 [00:00<00:01,  1.64it/s]",
                    "output_type": "stream"
                },
                {
                    "name": "stdout",
                    "text": "\rEpoch 0:  33%|███▎      | 1/3 [00:00<00:01,  1.63it/s, loss=0.441, v_num=10, val_loss=0.269]",
                    "output_type": "stream"
                },
                {
                    "name": "stdout",
                    "text": "\rEpoch 0:  67%|██████▋   | 2/3 [00:00<00:00,  2.40it/s, loss=0.441, v_num=10, val_loss=0.269]",
                    "output_type": "stream"
                },
                {
                    "name": "stdout",
                    "text": "\rEpoch 0:  67%|██████▋   | 2/3 [00:00<00:00,  2.40it/s, loss=0.429, v_num=10, val_loss=0.269, train_loss_step=0.441]",
                    "output_type": "stream"
                },
                {
                    "name": "stdout",
                    "text": "\rEpoch 0: 100%|██████████| 3/3 [00:01<00:00,  2.13it/s, loss=0.429, v_num=10, val_loss=0.269, train_loss_step=0.441]",
                    "output_type": "stream"
                },
                {
                    "name": "stdout",
                    "text": "\n",
                    "output_type": "stream"
                },
                {
                    "name": "stdout",
                    "text": "\rValidating: 0it [00:00, ?it/s]",
                    "output_type": "stream"
                },
                {
                    "name": "stdout",
                    "text": "\u001b[A",
                    "output_type": "stream"
                },
                {
                    "name": "stdout",
                    "text": "\n",
                    "output_type": "stream"
                },
                {
                    "name": "stdout",
                    "text": "\rValidating:   0%|          | 0/1 [00:00<?, ?it/s]",
                    "output_type": "stream"
                },
                {
                    "name": "stdout",
                    "text": "\u001b[A",
                    "output_type": "stream"
                },
                {
                    "name": "stdout",
                    "text": "\n",
                    "output_type": "stream"
                },
                {
                    "name": "stdout",
                    "text": "\rValidating: 100%|██████████| 1/1 [00:00<00:00,  2.75it/s]",
                    "output_type": "stream"
                },
                {
                    "name": "stdout",
                    "text": "\u001b[A",
                    "output_type": "stream"
                },
                {
                    "name": "stdout",
                    "text": "\rEpoch 0: 100%|██████████| 3/3 [00:02<00:00,  1.28it/s, loss=0.429, v_num=10, val_loss=0.252, train_loss_step=0.417, train_loss_epoch=0.429]",
                    "output_type": "stream"
                },
                {
                    "name": "stdout",
                    "text": "\n",
                    "output_type": "stream"
                },
                {
                    "name": "stdout",
                    "text": "\r                                                         ",
                    "output_type": "stream"
                },
                {
                    "name": "stdout",
                    "text": "\u001b[A",
                    "output_type": "stream"
                },
                {
                    "name": "stdout",
                    "text": "\rEpoch 0:   0%|          | 0/3 [00:00<?, ?it/s, loss=0.429, v_num=10, val_loss=0.252, train_loss_step=0.417, train_loss_epoch=0.429]        ",
                    "output_type": "stream"
                },
                {
                    "name": "stdout",
                    "text": "\rEpoch 1:   0%|          | 0/3 [00:00<?, ?it/s, loss=0.429, v_num=10, val_loss=0.252, train_loss_step=0.417, train_loss_epoch=0.429]",
                    "output_type": "stream"
                },
                {
                    "name": "stdout",
                    "text": "\rEpoch 1:  33%|███▎      | 1/3 [00:00<00:01,  1.50it/s, loss=0.429, v_num=10, val_loss=0.252, train_loss_step=0.417, train_loss_epoch=0.429]",
                    "output_type": "stream"
                },
                {
                    "name": "stdout",
                    "text": "\rEpoch 1:  33%|███▎      | 1/3 [00:00<00:01,  1.50it/s, loss=0.418, v_num=10, val_loss=0.252, train_loss_step=0.417, train_loss_epoch=0.429]",
                    "output_type": "stream"
                },
                {
                    "name": "stdout",
                    "text": "\rEpoch 1:  67%|██████▋   | 2/3 [00:00<00:00,  2.27it/s, loss=0.418, v_num=10, val_loss=0.252, train_loss_step=0.417, train_loss_epoch=0.429]",
                    "output_type": "stream"
                },
                {
                    "name": "stdout",
                    "text": "\rEpoch 1:  67%|██████▋   | 2/3 [00:00<00:00,  2.27it/s, loss=0.417, v_num=10, val_loss=0.252, train_loss_step=0.397, train_loss_epoch=0.429]",
                    "output_type": "stream"
                },
                {
                    "name": "stdout",
                    "text": "\rEpoch 1: 100%|██████████| 3/3 [00:01<00:00,  2.12it/s, loss=0.417, v_num=10, val_loss=0.252, train_loss_step=0.397, train_loss_epoch=0.429]",
                    "output_type": "stream"
                },
                {
                    "name": "stdout",
                    "text": "\n",
                    "output_type": "stream"
                },
                {
                    "name": "stdout",
                    "text": "\rValidating: 0it [00:00, ?it/s]",
                    "output_type": "stream"
                },
                {
                    "name": "stdout",
                    "text": "\u001b[A",
                    "output_type": "stream"
                },
                {
                    "name": "stdout",
                    "text": "\n",
                    "output_type": "stream"
                },
                {
                    "name": "stdout",
                    "text": "\rValidating:   0%|          | 0/1 [00:00<?, ?it/s]",
                    "output_type": "stream"
                },
                {
                    "name": "stdout",
                    "text": "\u001b[A",
                    "output_type": "stream"
                },
                {
                    "name": "stdout",
                    "text": "\n",
                    "output_type": "stream"
                },
                {
                    "name": "stdout",
                    "text": "\rValidating: 100%|██████████| 1/1 [00:00<00:00,  2.34it/s]",
                    "output_type": "stream"
                },
                {
                    "name": "stdout",
                    "text": "\u001b[A",
                    "output_type": "stream"
                },
                {
                    "name": "stdout",
                    "text": "\rEpoch 1: 100%|██████████| 3/3 [00:02<00:00,  1.24it/s, loss=0.417, v_num=10, val_loss=0.237, train_loss_step=0.414, train_loss_epoch=0.405]",
                    "output_type": "stream"
                },
                {
                    "name": "stdout",
                    "text": "\n",
                    "output_type": "stream"
                },
                {
                    "name": "stdout",
                    "text": "\r                                                         ",
                    "output_type": "stream"
                },
                {
                    "name": "stdout",
                    "text": "\u001b[A",
                    "output_type": "stream"
                },
                {
                    "name": "stdout",
                    "text": "\rEpoch 1:   0%|          | 0/3 [00:00<?, ?it/s, loss=0.417, v_num=10, val_loss=0.237, train_loss_step=0.414, train_loss_epoch=0.405]        ",
                    "output_type": "stream"
                },
                {
                    "name": "stdout",
                    "text": "\rEpoch 2:   0%|          | 0/3 [00:00<?, ?it/s, loss=0.417, v_num=10, val_loss=0.237, train_loss_step=0.414, train_loss_epoch=0.405]",
                    "output_type": "stream"
                },
                {
                    "name": "stdout",
                    "text": "\rEpoch 2:  33%|███▎      | 1/3 [00:00<00:01,  1.44it/s, loss=0.417, v_num=10, val_loss=0.237, train_loss_step=0.414, train_loss_epoch=0.405]",
                    "output_type": "stream"
                },
                {
                    "name": "stdout",
                    "text": "\rEpoch 2:  33%|███▎      | 1/3 [00:00<00:01,  1.43it/s, loss=0.411, v_num=10, val_loss=0.237, train_loss_step=0.414, train_loss_epoch=0.405]",
                    "output_type": "stream"
                },
                {
                    "name": "stdout",
                    "text": "\rEpoch 2:  67%|██████▋   | 2/3 [00:00<00:00,  2.20it/s, loss=0.411, v_num=10, val_loss=0.237, train_loss_step=0.414, train_loss_epoch=0.405]",
                    "output_type": "stream"
                },
                {
                    "name": "stdout",
                    "text": "\rEpoch 2:  67%|██████▋   | 2/3 [00:00<00:00,  2.20it/s, loss=0.408, v_num=10, val_loss=0.237, train_loss_step=0.384, train_loss_epoch=0.405]",
                    "output_type": "stream"
                },
                {
                    "name": "stdout",
                    "text": "\rEpoch 2: 100%|██████████| 3/3 [00:01<00:00,  1.91it/s, loss=0.408, v_num=10, val_loss=0.237, train_loss_step=0.384, train_loss_epoch=0.405]",
                    "output_type": "stream"
                },
                {
                    "name": "stdout",
                    "text": "\n",
                    "output_type": "stream"
                },
                {
                    "name": "stdout",
                    "text": "\rValidating: 0it [00:00, ?it/s]",
                    "output_type": "stream"
                },
                {
                    "name": "stdout",
                    "text": "\u001b[A",
                    "output_type": "stream"
                },
                {
                    "name": "stdout",
                    "text": "\n",
                    "output_type": "stream"
                },
                {
                    "name": "stdout",
                    "text": "\rValidating:   0%|          | 0/1 [00:00<?, ?it/s]",
                    "output_type": "stream"
                },
                {
                    "name": "stdout",
                    "text": "\u001b[A",
                    "output_type": "stream"
                },
                {
                    "name": "stdout",
                    "text": "\n",
                    "output_type": "stream"
                },
                {
                    "name": "stdout",
                    "text": "\rValidating: 100%|██████████| 1/1 [00:00<00:00,  2.51it/s]",
                    "output_type": "stream"
                },
                {
                    "name": "stdout",
                    "text": "\u001b[A",
                    "output_type": "stream"
                },
                {
                    "name": "stdout",
                    "text": "\rEpoch 2: 100%|██████████| 3/3 [00:02<00:00,  1.18it/s, loss=0.408, v_num=10, val_loss=0.188, train_loss_step=0.394, train_loss_epoch=0.389]",
                    "output_type": "stream"
                },
                {
                    "name": "stdout",
                    "text": "\n",
                    "output_type": "stream"
                },
                {
                    "name": "stdout",
                    "text": "\r                                                         ",
                    "output_type": "stream"
                },
                {
                    "name": "stdout",
                    "text": "\u001b[A",
                    "output_type": "stream"
                },
                {
                    "name": "stdout",
                    "text": "\rEpoch 2:   0%|          | 0/3 [00:00<?, ?it/s, loss=0.408, v_num=10, val_loss=0.188, train_loss_step=0.394, train_loss_epoch=0.389]        ",
                    "output_type": "stream"
                },
                {
                    "name": "stdout",
                    "text": "\rEpoch 3:   0%|          | 0/3 [00:00<?, ?it/s, loss=0.408, v_num=10, val_loss=0.188, train_loss_step=0.394, train_loss_epoch=0.389]",
                    "output_type": "stream"
                },
                {
                    "name": "stdout",
                    "text": "\rEpoch 3:  33%|███▎      | 1/3 [00:00<00:01,  1.38it/s, loss=0.408, v_num=10, val_loss=0.188, train_loss_step=0.394, train_loss_epoch=0.389]",
                    "output_type": "stream"
                },
                {
                    "name": "stdout",
                    "text": "\rEpoch 3:  33%|███▎      | 1/3 [00:00<00:01,  1.38it/s, loss=0.399, v_num=10, val_loss=0.188, train_loss_step=0.394, train_loss_epoch=0.389]",
                    "output_type": "stream"
                },
                {
                    "name": "stdout",
                    "text": "\rEpoch 3:  67%|██████▋   | 2/3 [00:00<00:00,  2.14it/s, loss=0.399, v_num=10, val_loss=0.188, train_loss_step=0.394, train_loss_epoch=0.389]",
                    "output_type": "stream"
                },
                {
                    "name": "stdout",
                    "text": "\rEpoch 3:  67%|██████▋   | 2/3 [00:00<00:00,  2.13it/s, loss=0.377, v_num=10, val_loss=0.188, train_loss_step=0.342, train_loss_epoch=0.389]",
                    "output_type": "stream"
                },
                {
                    "name": "stdout",
                    "text": "\rEpoch 3: 100%|██████████| 3/3 [00:01<00:00,  2.05it/s, loss=0.377, v_num=10, val_loss=0.188, train_loss_step=0.342, train_loss_epoch=0.389]",
                    "output_type": "stream"
                },
                {
                    "name": "stdout",
                    "text": "\n",
                    "output_type": "stream"
                },
                {
                    "name": "stdout",
                    "text": "\rValidating: 0it [00:00, ?it/s]",
                    "output_type": "stream"
                },
                {
                    "name": "stdout",
                    "text": "\u001b[A",
                    "output_type": "stream"
                },
                {
                    "name": "stdout",
                    "text": "\n",
                    "output_type": "stream"
                },
                {
                    "name": "stdout",
                    "text": "\rValidating:   0%|          | 0/1 [00:00<?, ?it/s]",
                    "output_type": "stream"
                },
                {
                    "name": "stdout",
                    "text": "\u001b[A",
                    "output_type": "stream"
                },
                {
                    "name": "stdout",
                    "text": "\n",
                    "output_type": "stream"
                },
                {
                    "name": "stdout",
                    "text": "\rValidating: 100%|██████████| 1/1 [00:00<00:00,  2.27it/s]",
                    "output_type": "stream"
                },
                {
                    "name": "stdout",
                    "text": "\u001b[A",
                    "output_type": "stream"
                },
                {
                    "name": "stdout",
                    "text": "\rEpoch 3: 100%|██████████| 3/3 [00:02<00:00,  1.22it/s, loss=0.377, v_num=10, val_loss=0.138, train_loss_step=0.230, train_loss_epoch=0.286]",
                    "output_type": "stream"
                },
                {
                    "name": "stdout",
                    "text": "\n",
                    "output_type": "stream"
                },
                {
                    "name": "stdout",
                    "text": "\r                                                         ",
                    "output_type": "stream"
                },
                {
                    "name": "stdout",
                    "text": "\u001b[A",
                    "output_type": "stream"
                },
                {
                    "name": "stdout",
                    "text": "\rEpoch 3:   0%|          | 0/3 [00:00<?, ?it/s, loss=0.377, v_num=10, val_loss=0.138, train_loss_step=0.230, train_loss_epoch=0.286]        ",
                    "output_type": "stream"
                },
                {
                    "name": "stdout",
                    "text": "\rEpoch 4:   0%|          | 0/3 [00:00<?, ?it/s, loss=0.377, v_num=10, val_loss=0.138, train_loss_step=0.230, train_loss_epoch=0.286]",
                    "output_type": "stream"
                },
                {
                    "name": "stdout",
                    "text": "\rEpoch 4:  33%|███▎      | 1/3 [00:01<00:03,  1.95s/it, loss=0.377, v_num=10, val_loss=0.138, train_loss_step=0.230, train_loss_epoch=0.286]",
                    "output_type": "stream"
                },
                {
                    "name": "stdout",
                    "text": "\rEpoch 4:  33%|███▎      | 1/3 [00:01<00:03,  1.96s/it, loss=0.359, v_num=10, val_loss=0.138, train_loss_step=0.230, train_loss_epoch=0.286]",
                    "output_type": "stream"
                },
                {
                    "name": "stdout",
                    "text": "\rEpoch 4:  67%|██████▋   | 2/3 [00:02<00:01,  1.10s/it, loss=0.359, v_num=10, val_loss=0.138, train_loss_step=0.230, train_loss_epoch=0.286]",
                    "output_type": "stream"
                },
                {
                    "name": "stdout",
                    "text": "\rEpoch 4:  67%|██████▋   | 2/3 [00:02<00:01,  1.10s/it, loss=0.344, v_num=10, val_loss=0.138, train_loss_step=0.214, train_loss_epoch=0.286]",
                    "output_type": "stream"
                },
                {
                    "name": "stdout",
                    "text": "\rEpoch 4: 100%|██████████| 3/3 [00:02<00:00,  1.09it/s, loss=0.344, v_num=10, val_loss=0.138, train_loss_step=0.214, train_loss_epoch=0.286]",
                    "output_type": "stream"
                },
                {
                    "name": "stdout",
                    "text": "\n",
                    "output_type": "stream"
                },
                {
                    "name": "stdout",
                    "text": "\rValidating: 0it [00:00, ?it/s]",
                    "output_type": "stream"
                },
                {
                    "name": "stdout",
                    "text": "\u001b[A",
                    "output_type": "stream"
                },
                {
                    "name": "stdout",
                    "text": "\n",
                    "output_type": "stream"
                },
                {
                    "name": "stdout",
                    "text": "\rValidating:   0%|          | 0/1 [00:00<?, ?it/s]",
                    "output_type": "stream"
                },
                {
                    "name": "stdout",
                    "text": "\u001b[A",
                    "output_type": "stream"
                },
                {
                    "name": "stdout",
                    "text": "\n",
                    "output_type": "stream"
                },
                {
                    "name": "stdout",
                    "text": "\rValidating: 100%|██████████| 1/1 [00:00<00:00,  2.27it/s]",
                    "output_type": "stream"
                },
                {
                    "name": "stdout",
                    "text": "\u001b[A",
                    "output_type": "stream"
                },
                {
                    "name": "stdout",
                    "text": "\rEpoch 4: 100%|██████████| 3/3 [00:03<00:00,  1.25s/it, loss=0.344, v_num=10, val_loss=0.126, train_loss_step=0.211, train_loss_epoch=0.212]",
                    "output_type": "stream"
                },
                {
                    "name": "stdout",
                    "text": "\n",
                    "output_type": "stream"
                },
                {
                    "name": "stdout",
                    "text": "\r                                                         ",
                    "output_type": "stream"
                },
                {
                    "name": "stdout",
                    "text": "\u001b[A",
                    "output_type": "stream"
                },
                {
                    "name": "stdout",
                    "text": "\rEpoch 4:   0%|          | 0/3 [00:00<?, ?it/s, loss=0.344, v_num=10, val_loss=0.126, train_loss_step=0.211, train_loss_epoch=0.212]        ",
                    "output_type": "stream"
                },
                {
                    "name": "stdout",
                    "text": "\rEpoch 5:   0%|          | 0/3 [00:00<?, ?it/s, loss=0.344, v_num=10, val_loss=0.126, train_loss_step=0.211, train_loss_epoch=0.212]",
                    "output_type": "stream"
                },
                {
                    "name": "stdout",
                    "text": "\rEpoch 5:  33%|███▎      | 1/3 [00:00<00:01,  1.72it/s, loss=0.344, v_num=10, val_loss=0.126, train_loss_step=0.211, train_loss_epoch=0.212]",
                    "output_type": "stream"
                },
                {
                    "name": "stdout",
                    "text": "\rEpoch 5:  33%|███▎      | 1/3 [00:00<00:01,  1.71it/s, loss=0.332, v_num=10, val_loss=0.126, train_loss_step=0.211, train_loss_epoch=0.212]",
                    "output_type": "stream"
                },
                {
                    "name": "stdout",
                    "text": "\rEpoch 5:  67%|██████▋   | 2/3 [00:00<00:00,  2.49it/s, loss=0.332, v_num=10, val_loss=0.126, train_loss_step=0.211, train_loss_epoch=0.212]",
                    "output_type": "stream"
                },
                {
                    "name": "stdout",
                    "text": "\rEpoch 5:  67%|██████▋   | 2/3 [00:00<00:00,  2.49it/s, loss=0.321, v_num=10, val_loss=0.126, train_loss_step=0.206, train_loss_epoch=0.212]",
                    "output_type": "stream"
                },
                {
                    "name": "stdout",
                    "text": "\rEpoch 5: 100%|██████████| 3/3 [00:01<00:00,  2.23it/s, loss=0.321, v_num=10, val_loss=0.126, train_loss_step=0.206, train_loss_epoch=0.212]",
                    "output_type": "stream"
                },
                {
                    "name": "stdout",
                    "text": "\n",
                    "output_type": "stream"
                },
                {
                    "name": "stdout",
                    "text": "\rValidating: 0it [00:00, ?it/s]",
                    "output_type": "stream"
                },
                {
                    "name": "stdout",
                    "text": "\u001b[A",
                    "output_type": "stream"
                },
                {
                    "name": "stdout",
                    "text": "\n",
                    "output_type": "stream"
                },
                {
                    "name": "stdout",
                    "text": "\rValidating:   0%|          | 0/1 [00:00<?, ?it/s]",
                    "output_type": "stream"
                },
                {
                    "name": "stdout",
                    "text": "\u001b[A",
                    "output_type": "stream"
                },
                {
                    "name": "stdout",
                    "text": "\n",
                    "output_type": "stream"
                },
                {
                    "name": "stdout",
                    "text": "\rValidating: 100%|██████████| 1/1 [00:00<00:00,  2.81it/s]",
                    "output_type": "stream"
                },
                {
                    "name": "stdout",
                    "text": "\u001b[A",
                    "output_type": "stream"
                },
                {
                    "name": "stdout",
                    "text": "\rEpoch 5: 100%|██████████| 3/3 [00:02<00:00,  1.32it/s, loss=0.321, v_num=10, val_loss=0.122, train_loss_step=0.207, train_loss_epoch=0.207]",
                    "output_type": "stream"
                },
                {
                    "name": "stdout",
                    "text": "\n",
                    "output_type": "stream"
                },
                {
                    "name": "stdout",
                    "text": "\r                                                         ",
                    "output_type": "stream"
                },
                {
                    "name": "stdout",
                    "text": "\u001b[A",
                    "output_type": "stream"
                },
                {
                    "name": "stdout",
                    "text": "\rEpoch 5:   0%|          | 0/3 [00:00<?, ?it/s, loss=0.321, v_num=10, val_loss=0.122, train_loss_step=0.207, train_loss_epoch=0.207]        ",
                    "output_type": "stream"
                },
                {
                    "name": "stdout",
                    "text": "\rEpoch 6:   0%|          | 0/3 [00:00<?, ?it/s, loss=0.321, v_num=10, val_loss=0.122, train_loss_step=0.207, train_loss_epoch=0.207]",
                    "output_type": "stream"
                },
                {
                    "name": "stdout",
                    "text": "\rEpoch 6:  33%|███▎      | 1/3 [00:00<00:01,  1.58it/s, loss=0.321, v_num=10, val_loss=0.122, train_loss_step=0.207, train_loss_epoch=0.207]",
                    "output_type": "stream"
                },
                {
                    "name": "stdout",
                    "text": "\rEpoch 6:  33%|███▎      | 1/3 [00:00<00:01,  1.57it/s, loss=0.312, v_num=10, val_loss=0.122, train_loss_step=0.207, train_loss_epoch=0.207]",
                    "output_type": "stream"
                },
                {
                    "name": "stdout",
                    "text": "\rEpoch 6:  67%|██████▋   | 2/3 [00:00<00:00,  2.32it/s, loss=0.312, v_num=10, val_loss=0.122, train_loss_step=0.207, train_loss_epoch=0.207]",
                    "output_type": "stream"
                },
                {
                    "name": "stdout",
                    "text": "\rEpoch 6:  67%|██████▋   | 2/3 [00:00<00:00,  2.32it/s, loss=0.304, v_num=10, val_loss=0.122, train_loss_step=0.204, train_loss_epoch=0.207]",
                    "output_type": "stream"
                },
                {
                    "name": "stdout",
                    "text": "\rEpoch 6: 100%|██████████| 3/3 [00:01<00:00,  1.86it/s, loss=0.304, v_num=10, val_loss=0.122, train_loss_step=0.204, train_loss_epoch=0.207]",
                    "output_type": "stream"
                },
                {
                    "name": "stdout",
                    "text": "\n",
                    "output_type": "stream"
                },
                {
                    "name": "stdout",
                    "text": "\rValidating: 0it [00:00, ?it/s]",
                    "output_type": "stream"
                },
                {
                    "name": "stdout",
                    "text": "\u001b[A",
                    "output_type": "stream"
                },
                {
                    "name": "stdout",
                    "text": "\n",
                    "output_type": "stream"
                },
                {
                    "name": "stdout",
                    "text": "\rValidating:   0%|          | 0/1 [00:00<?, ?it/s]",
                    "output_type": "stream"
                },
                {
                    "name": "stdout",
                    "text": "\u001b[A",
                    "output_type": "stream"
                },
                {
                    "name": "stdout",
                    "text": "\n",
                    "output_type": "stream"
                },
                {
                    "name": "stdout",
                    "text": "\rValidating: 100%|██████████| 1/1 [00:00<00:00,  2.38it/s]",
                    "output_type": "stream"
                },
                {
                    "name": "stdout",
                    "text": "\u001b[A",
                    "output_type": "stream"
                },
                {
                    "name": "stdout",
                    "text": "\rEpoch 6: 100%|██████████| 3/3 [00:02<00:00,  1.16it/s, loss=0.304, v_num=10, val_loss=0.131, train_loss_step=0.193, train_loss_epoch=0.199]",
                    "output_type": "stream"
                },
                {
                    "name": "stdout",
                    "text": "\n",
                    "output_type": "stream"
                },
                {
                    "name": "stdout",
                    "text": "\r                                                         ",
                    "output_type": "stream"
                },
                {
                    "name": "stdout",
                    "text": "\u001b[A",
                    "output_type": "stream"
                },
                {
                    "name": "stdout",
                    "text": "\rEpoch 6:   0%|          | 0/3 [00:00<?, ?it/s, loss=0.304, v_num=10, val_loss=0.131, train_loss_step=0.193, train_loss_epoch=0.199]        ",
                    "output_type": "stream"
                },
                {
                    "name": "stdout",
                    "text": "\rEpoch 7:   0%|          | 0/3 [00:00<?, ?it/s, loss=0.304, v_num=10, val_loss=0.131, train_loss_step=0.193, train_loss_epoch=0.199]",
                    "output_type": "stream"
                },
                {
                    "name": "stdout",
                    "text": "\rEpoch 7:  33%|███▎      | 1/3 [00:00<00:01,  1.52it/s, loss=0.304, v_num=10, val_loss=0.131, train_loss_step=0.193, train_loss_epoch=0.199]",
                    "output_type": "stream"
                },
                {
                    "name": "stdout",
                    "text": "\rEpoch 7:  33%|███▎      | 1/3 [00:00<00:01,  1.52it/s, loss=0.296, v_num=10, val_loss=0.131, train_loss_step=0.193, train_loss_epoch=0.199]",
                    "output_type": "stream"
                },
                {
                    "name": "stdout",
                    "text": "\rEpoch 7:  67%|██████▋   | 2/3 [00:00<00:00,  2.30it/s, loss=0.296, v_num=10, val_loss=0.131, train_loss_step=0.193, train_loss_epoch=0.199]",
                    "output_type": "stream"
                },
                {
                    "name": "stdout",
                    "text": "\rEpoch 7:  67%|██████▋   | 2/3 [00:00<00:00,  2.29it/s, loss=0.289, v_num=10, val_loss=0.131, train_loss_step=0.185, train_loss_epoch=0.199]",
                    "output_type": "stream"
                },
                {
                    "name": "stdout",
                    "text": "\rEpoch 7: 100%|██████████| 3/3 [00:01<00:00,  2.12it/s, loss=0.289, v_num=10, val_loss=0.131, train_loss_step=0.185, train_loss_epoch=0.199]",
                    "output_type": "stream"
                },
                {
                    "name": "stdout",
                    "text": "\n",
                    "output_type": "stream"
                },
                {
                    "name": "stdout",
                    "text": "\rValidating: 0it [00:00, ?it/s]",
                    "output_type": "stream"
                },
                {
                    "name": "stdout",
                    "text": "\u001b[A",
                    "output_type": "stream"
                },
                {
                    "name": "stdout",
                    "text": "\n",
                    "output_type": "stream"
                },
                {
                    "name": "stdout",
                    "text": "\rValidating:   0%|          | 0/1 [00:00<?, ?it/s]",
                    "output_type": "stream"
                },
                {
                    "name": "stdout",
                    "text": "\u001b[A",
                    "output_type": "stream"
                },
                {
                    "name": "stdout",
                    "text": "\n",
                    "output_type": "stream"
                },
                {
                    "name": "stdout",
                    "text": "\rValidating: 100%|██████████| 1/1 [00:00<00:00,  2.47it/s]",
                    "output_type": "stream"
                },
                {
                    "name": "stdout",
                    "text": "\u001b[A",
                    "output_type": "stream"
                },
                {
                    "name": "stdout",
                    "text": "\rEpoch 7: 100%|██████████| 3/3 [00:02<00:00,  1.21it/s, loss=0.289, v_num=10, val_loss=0.192, train_loss_step=0.190, train_loss_epoch=0.187]",
                    "output_type": "stream"
                },
                {
                    "name": "stdout",
                    "text": "\n",
                    "output_type": "stream"
                },
                {
                    "name": "stdout",
                    "text": "\r                                                         ",
                    "output_type": "stream"
                },
                {
                    "name": "stdout",
                    "text": "\u001b[A",
                    "output_type": "stream"
                },
                {
                    "name": "stdout",
                    "text": "\rEpoch 7:   0%|          | 0/3 [00:00<?, ?it/s, loss=0.289, v_num=10, val_loss=0.192, train_loss_step=0.190, train_loss_epoch=0.187]        ",
                    "output_type": "stream"
                },
                {
                    "name": "stdout",
                    "text": "\rEpoch 8:   0%|          | 0/3 [00:00<?, ?it/s, loss=0.289, v_num=10, val_loss=0.192, train_loss_step=0.190, train_loss_epoch=0.187]",
                    "output_type": "stream"
                },
                {
                    "name": "stdout",
                    "text": "\rEpoch 8:  33%|███▎      | 1/3 [00:00<00:01,  1.30it/s, loss=0.289, v_num=10, val_loss=0.192, train_loss_step=0.190, train_loss_epoch=0.187]",
                    "output_type": "stream"
                },
                {
                    "name": "stdout",
                    "text": "\rEpoch 8:  33%|███▎      | 1/3 [00:00<00:01,  1.29it/s, loss=0.283, v_num=10, val_loss=0.192, train_loss_step=0.190, train_loss_epoch=0.187]",
                    "output_type": "stream"
                },
                {
                    "name": "stdout",
                    "text": "\rEpoch 8:  67%|██████▋   | 2/3 [00:01<00:00,  1.95it/s, loss=0.283, v_num=10, val_loss=0.192, train_loss_step=0.190, train_loss_epoch=0.187]",
                    "output_type": "stream"
                },
                {
                    "name": "stdout",
                    "text": "\rEpoch 8:  67%|██████▋   | 2/3 [00:01<00:00,  1.95it/s, loss=0.278, v_num=10, val_loss=0.192, train_loss_step=0.184, train_loss_epoch=0.187]",
                    "output_type": "stream"
                },
                {
                    "name": "stdout",
                    "text": "\rEpoch 8: 100%|██████████| 3/3 [00:01<00:00,  1.70it/s, loss=0.278, v_num=10, val_loss=0.192, train_loss_step=0.184, train_loss_epoch=0.187]",
                    "output_type": "stream"
                },
                {
                    "name": "stdout",
                    "text": "\n",
                    "output_type": "stream"
                },
                {
                    "name": "stdout",
                    "text": "\rValidating: 0it [00:00, ?it/s]",
                    "output_type": "stream"
                },
                {
                    "name": "stdout",
                    "text": "\u001b[A",
                    "output_type": "stream"
                },
                {
                    "name": "stdout",
                    "text": "\n",
                    "output_type": "stream"
                },
                {
                    "name": "stdout",
                    "text": "\rValidating:   0%|          | 0/1 [00:00<?, ?it/s]",
                    "output_type": "stream"
                },
                {
                    "name": "stdout",
                    "text": "\u001b[A",
                    "output_type": "stream"
                },
                {
                    "name": "stdout",
                    "text": "\n",
                    "output_type": "stream"
                },
                {
                    "name": "stdout",
                    "text": "\rValidating: 100%|██████████| 1/1 [00:00<00:00,  2.45it/s]",
                    "output_type": "stream"
                },
                {
                    "name": "stdout",
                    "text": "\u001b[A",
                    "output_type": "stream"
                },
                {
                    "name": "stdout",
                    "text": "\rEpoch 8: 100%|██████████| 3/3 [00:02<00:00,  1.07it/s, loss=0.278, v_num=10, val_loss=0.139, train_loss_step=0.196, train_loss_epoch=0.190]",
                    "output_type": "stream"
                },
                {
                    "name": "stdout",
                    "text": "\n",
                    "output_type": "stream"
                },
                {
                    "name": "stdout",
                    "text": "\r                                                         ",
                    "output_type": "stream"
                },
                {
                    "name": "stdout",
                    "text": "\u001b[A",
                    "output_type": "stream"
                },
                {
                    "name": "stdout",
                    "text": "\rEpoch 8:   0%|          | 0/3 [00:00<?, ?it/s, loss=0.278, v_num=10, val_loss=0.139, train_loss_step=0.196, train_loss_epoch=0.190]        ",
                    "output_type": "stream"
                },
                {
                    "name": "stdout",
                    "text": "\rEpoch 9:   0%|          | 0/3 [00:00<?, ?it/s, loss=0.278, v_num=10, val_loss=0.139, train_loss_step=0.196, train_loss_epoch=0.190]",
                    "output_type": "stream"
                },
                {
                    "name": "stdout",
                    "text": "\rEpoch 9:  33%|███▎      | 1/3 [00:00<00:01,  1.51it/s, loss=0.278, v_num=10, val_loss=0.139, train_loss_step=0.196, train_loss_epoch=0.190]",
                    "output_type": "stream"
                },
                {
                    "name": "stdout",
                    "text": "\rEpoch 9:  33%|███▎      | 1/3 [00:00<00:01,  1.51it/s, loss=0.273, v_num=10, val_loss=0.139, train_loss_step=0.196, train_loss_epoch=0.190]",
                    "output_type": "stream"
                },
                {
                    "name": "stdout",
                    "text": "\rEpoch 9:  67%|██████▋   | 2/3 [00:00<00:00,  2.29it/s, loss=0.273, v_num=10, val_loss=0.139, train_loss_step=0.196, train_loss_epoch=0.190]",
                    "output_type": "stream"
                },
                {
                    "name": "stdout",
                    "text": "\rEpoch 9:  67%|██████▋   | 2/3 [00:00<00:00,  2.29it/s, loss=0.269, v_num=10, val_loss=0.139, train_loss_step=0.180, train_loss_epoch=0.190]",
                    "output_type": "stream"
                },
                {
                    "name": "stdout",
                    "text": "\rEpoch 9: 100%|██████████| 3/3 [00:01<00:00,  2.01it/s, loss=0.269, v_num=10, val_loss=0.139, train_loss_step=0.180, train_loss_epoch=0.190]",
                    "output_type": "stream"
                },
                {
                    "name": "stdout",
                    "text": "\n",
                    "output_type": "stream"
                },
                {
                    "name": "stdout",
                    "text": "\rValidating: 0it [00:00, ?it/s]",
                    "output_type": "stream"
                },
                {
                    "name": "stdout",
                    "text": "\u001b[A",
                    "output_type": "stream"
                },
                {
                    "name": "stdout",
                    "text": "\n",
                    "output_type": "stream"
                },
                {
                    "name": "stdout",
                    "text": "\rValidating:   0%|          | 0/1 [00:00<?, ?it/s]",
                    "output_type": "stream"
                },
                {
                    "name": "stdout",
                    "text": "\u001b[A",
                    "output_type": "stream"
                },
                {
                    "name": "stdout",
                    "text": "\n",
                    "output_type": "stream"
                },
                {
                    "name": "stdout",
                    "text": "\rValidating: 100%|██████████| 1/1 [00:00<00:00,  2.48it/s]",
                    "output_type": "stream"
                },
                {
                    "name": "stdout",
                    "text": "\u001b[A",
                    "output_type": "stream"
                },
                {
                    "name": "stdout",
                    "text": "\rEpoch 9: 100%|██████████| 3/3 [00:02<00:00,  1.18it/s, loss=0.269, v_num=10, val_loss=0.180, train_loss_step=0.182, train_loss_epoch=0.181]",
                    "output_type": "stream"
                },
                {
                    "name": "stdout",
                    "text": "\n",
                    "output_type": "stream"
                },
                {
                    "name": "stdout",
                    "text": "\r                                                         ",
                    "output_type": "stream"
                },
                {
                    "name": "stdout",
                    "text": "\u001b[A",
                    "output_type": "stream"
                },
                {
                    "name": "stdout",
                    "text": "\rEpoch 9:   0%|          | 0/3 [00:00<?, ?it/s, loss=0.269, v_num=10, val_loss=0.180, train_loss_step=0.182, train_loss_epoch=0.181]        ",
                    "output_type": "stream"
                },
                {
                    "name": "stdout",
                    "text": "\rEpoch 10:   0%|          | 0/3 [00:00<?, ?it/s, loss=0.269, v_num=10, val_loss=0.180, train_loss_step=0.182, train_loss_epoch=0.181]",
                    "output_type": "stream"
                },
                {
                    "name": "stdout",
                    "text": "\rEpoch 10:  33%|███▎      | 1/3 [00:00<00:01,  1.44it/s, loss=0.269, v_num=10, val_loss=0.180, train_loss_step=0.182, train_loss_epoch=0.181]",
                    "output_type": "stream"
                },
                {
                    "name": "stdout",
                    "text": "\rEpoch 10:  33%|███▎      | 1/3 [00:00<00:01,  1.43it/s, loss=0.256, v_num=10, val_loss=0.180, train_loss_step=0.182, train_loss_epoch=0.181]",
                    "output_type": "stream"
                },
                {
                    "name": "stdout",
                    "text": "\rEpoch 10:  67%|██████▋   | 2/3 [00:00<00:00,  2.21it/s, loss=0.256, v_num=10, val_loss=0.180, train_loss_step=0.182, train_loss_epoch=0.181]",
                    "output_type": "stream"
                },
                {
                    "name": "stdout",
                    "text": "\rEpoch 10:  67%|██████▋   | 2/3 [00:00<00:00,  2.21it/s, loss=0.244, v_num=10, val_loss=0.180, train_loss_step=0.181, train_loss_epoch=0.181]",
                    "output_type": "stream"
                },
                {
                    "name": "stdout",
                    "text": "\rEpoch 10: 100%|██████████| 3/3 [00:02<00:00,  1.47it/s, loss=0.244, v_num=10, val_loss=0.180, train_loss_step=0.181, train_loss_epoch=0.181]",
                    "output_type": "stream"
                },
                {
                    "name": "stdout",
                    "text": "\n",
                    "output_type": "stream"
                },
                {
                    "name": "stdout",
                    "text": "\rValidating: 0it [00:00, ?it/s]",
                    "output_type": "stream"
                },
                {
                    "name": "stdout",
                    "text": "\u001b[A",
                    "output_type": "stream"
                },
                {
                    "name": "stdout",
                    "text": "\n",
                    "output_type": "stream"
                },
                {
                    "name": "stdout",
                    "text": "\rValidating:   0%|          | 0/1 [00:00<?, ?it/s]",
                    "output_type": "stream"
                },
                {
                    "name": "stdout",
                    "text": "\u001b[A",
                    "output_type": "stream"
                },
                {
                    "name": "stdout",
                    "text": "\n",
                    "output_type": "stream"
                },
                {
                    "name": "stdout",
                    "text": "\rValidating: 100%|██████████| 1/1 [00:00<00:00,  2.52it/s]",
                    "output_type": "stream"
                },
                {
                    "name": "stdout",
                    "text": "\u001b[A",
                    "output_type": "stream"
                },
                {
                    "name": "stdout",
                    "text": "\rEpoch 10: 100%|██████████| 3/3 [00:03<00:00,  1.04s/it, loss=0.244, v_num=10, val_loss=0.161, train_loss_step=0.180, train_loss_epoch=0.180]",
                    "output_type": "stream"
                },
                {
                    "name": "stdout",
                    "text": "\n",
                    "output_type": "stream"
                },
                {
                    "name": "stdout",
                    "text": "\r                                                         ",
                    "output_type": "stream"
                },
                {
                    "name": "stdout",
                    "text": "\u001b[A",
                    "output_type": "stream"
                },
                {
                    "name": "stdout",
                    "text": "\rEpoch 10:   0%|          | 0/3 [00:00<?, ?it/s, loss=0.244, v_num=10, val_loss=0.161, train_loss_step=0.180, train_loss_epoch=0.180]        ",
                    "output_type": "stream"
                },
                {
                    "name": "stdout",
                    "text": "\rEpoch 11:   0%|          | 0/3 [00:00<?, ?it/s, loss=0.244, v_num=10, val_loss=0.161, train_loss_step=0.180, train_loss_epoch=0.180]",
                    "output_type": "stream"
                },
                {
                    "name": "stdout",
                    "text": "\rEpoch 11:  33%|███▎      | 1/3 [00:00<00:01,  1.51it/s, loss=0.244, v_num=10, val_loss=0.161, train_loss_step=0.180, train_loss_epoch=0.180]",
                    "output_type": "stream"
                },
                {
                    "name": "stdout",
                    "text": "\rEpoch 11:  33%|███▎      | 1/3 [00:00<00:01,  1.51it/s, loss=0.233, v_num=10, val_loss=0.161, train_loss_step=0.180, train_loss_epoch=0.180]",
                    "output_type": "stream"
                },
                {
                    "name": "stdout",
                    "text": "\rEpoch 11:  67%|██████▋   | 2/3 [00:00<00:00,  2.27it/s, loss=0.233, v_num=10, val_loss=0.161, train_loss_step=0.180, train_loss_epoch=0.180]",
                    "output_type": "stream"
                },
                {
                    "name": "stdout",
                    "text": "\rEpoch 11:  67%|██████▋   | 2/3 [00:00<00:00,  2.27it/s, loss=0.221, v_num=10, val_loss=0.161, train_loss_step=0.177, train_loss_epoch=0.180]",
                    "output_type": "stream"
                },
                {
                    "name": "stdout",
                    "text": "\rEpoch 11: 100%|██████████| 3/3 [00:01<00:00,  1.99it/s, loss=0.221, v_num=10, val_loss=0.161, train_loss_step=0.177, train_loss_epoch=0.180]",
                    "output_type": "stream"
                },
                {
                    "name": "stdout",
                    "text": "\n",
                    "output_type": "stream"
                },
                {
                    "name": "stdout",
                    "text": "\rValidating: 0it [00:00, ?it/s]",
                    "output_type": "stream"
                },
                {
                    "name": "stdout",
                    "text": "\u001b[A",
                    "output_type": "stream"
                },
                {
                    "name": "stdout",
                    "text": "\n",
                    "output_type": "stream"
                },
                {
                    "name": "stdout",
                    "text": "\rValidating:   0%|          | 0/1 [00:00<?, ?it/s]",
                    "output_type": "stream"
                },
                {
                    "name": "stdout",
                    "text": "\u001b[A",
                    "output_type": "stream"
                },
                {
                    "name": "stdout",
                    "text": "\n",
                    "output_type": "stream"
                },
                {
                    "name": "stdout",
                    "text": "\rValidating: 100%|██████████| 1/1 [00:00<00:00,  2.89it/s]",
                    "output_type": "stream"
                },
                {
                    "name": "stdout",
                    "text": "\u001b[A",
                    "output_type": "stream"
                },
                {
                    "name": "stdout",
                    "text": "\rEpoch 11: 100%|██████████| 3/3 [00:02<00:00,  1.25it/s, loss=0.221, v_num=10, val_loss=0.152, train_loss_step=0.186, train_loss_epoch=0.182]",
                    "output_type": "stream"
                },
                {
                    "name": "stdout",
                    "text": "\n",
                    "output_type": "stream"
                },
                {
                    "name": "stdout",
                    "text": "\r                                                         ",
                    "output_type": "stream"
                },
                {
                    "name": "stdout",
                    "text": "\u001b[A",
                    "output_type": "stream"
                },
                {
                    "name": "stdout",
                    "text": "\rEpoch 11:   0%|          | 0/3 [00:00<?, ?it/s, loss=0.221, v_num=10, val_loss=0.152, train_loss_step=0.186, train_loss_epoch=0.182]        ",
                    "output_type": "stream"
                },
                {
                    "name": "stdout",
                    "text": "\rEpoch 12:   0%|          | 0/3 [00:00<?, ?it/s, loss=0.221, v_num=10, val_loss=0.152, train_loss_step=0.186, train_loss_epoch=0.182]",
                    "output_type": "stream"
                },
                {
                    "name": "stdout",
                    "text": "\rEpoch 12:  33%|███▎      | 1/3 [00:00<00:01,  1.78it/s, loss=0.221, v_num=10, val_loss=0.152, train_loss_step=0.186, train_loss_epoch=0.182]",
                    "output_type": "stream"
                },
                {
                    "name": "stdout",
                    "text": "\rEpoch 12:  33%|███▎      | 1/3 [00:00<00:01,  1.78it/s, loss=0.211, v_num=10, val_loss=0.152, train_loss_step=0.186, train_loss_epoch=0.182]",
                    "output_type": "stream"
                },
                {
                    "name": "stdout",
                    "text": "\rEpoch 12:  67%|██████▋   | 2/3 [00:00<00:00,  2.61it/s, loss=0.211, v_num=10, val_loss=0.152, train_loss_step=0.186, train_loss_epoch=0.182]",
                    "output_type": "stream"
                },
                {
                    "name": "stdout",
                    "text": "\rEpoch 12:  67%|██████▋   | 2/3 [00:00<00:00,  2.61it/s, loss=0.2, v_num=10, val_loss=0.152, train_loss_step=0.175, train_loss_epoch=0.182]  ",
                    "output_type": "stream"
                },
                {
                    "name": "stdout",
                    "text": "\rEpoch 12: 100%|██████████| 3/3 [00:01<00:00,  2.27it/s, loss=0.2, v_num=10, val_loss=0.152, train_loss_step=0.175, train_loss_epoch=0.182]",
                    "output_type": "stream"
                },
                {
                    "name": "stdout",
                    "text": "\n",
                    "output_type": "stream"
                },
                {
                    "name": "stdout",
                    "text": "\rValidating: 0it [00:00, ?it/s]",
                    "output_type": "stream"
                },
                {
                    "name": "stdout",
                    "text": "\u001b[A",
                    "output_type": "stream"
                },
                {
                    "name": "stdout",
                    "text": "\n",
                    "output_type": "stream"
                },
                {
                    "name": "stdout",
                    "text": "\rValidating:   0%|          | 0/1 [00:00<?, ?it/s]",
                    "output_type": "stream"
                },
                {
                    "name": "stdout",
                    "text": "\u001b[A",
                    "output_type": "stream"
                },
                {
                    "name": "stdout",
                    "text": "\n",
                    "output_type": "stream"
                },
                {
                    "name": "stdout",
                    "text": "\rValidating: 100%|██████████| 1/1 [00:00<00:00,  2.28it/s]",
                    "output_type": "stream"
                },
                {
                    "name": "stdout",
                    "text": "\u001b[A",
                    "output_type": "stream"
                },
                {
                    "name": "stdout",
                    "text": "\rEpoch 12: 100%|██████████| 3/3 [00:02<00:00,  1.21it/s, loss=0.2, v_num=10, val_loss=0.160, train_loss_step=0.174, train_loss_epoch=0.175]",
                    "output_type": "stream"
                },
                {
                    "name": "stdout",
                    "text": "\n",
                    "output_type": "stream"
                },
                {
                    "name": "stdout",
                    "text": "\r                                                         ",
                    "output_type": "stream"
                },
                {
                    "name": "stdout",
                    "text": "\u001b[A",
                    "output_type": "stream"
                },
                {
                    "name": "stdout",
                    "text": "\rEpoch 12:   0%|          | 0/3 [00:00<?, ?it/s, loss=0.2, v_num=10, val_loss=0.160, train_loss_step=0.174, train_loss_epoch=0.175]        ",
                    "output_type": "stream"
                },
                {
                    "name": "stdout",
                    "text": "\rEpoch 13:   0%|          | 0/3 [00:00<?, ?it/s, loss=0.2, v_num=10, val_loss=0.160, train_loss_step=0.174, train_loss_epoch=0.175]",
                    "output_type": "stream"
                },
                {
                    "name": "stdout",
                    "text": "\rEpoch 13:  33%|███▎      | 1/3 [00:00<00:01,  1.39it/s, loss=0.2, v_num=10, val_loss=0.160, train_loss_step=0.174, train_loss_epoch=0.175]",
                    "output_type": "stream"
                },
                {
                    "name": "stdout",
                    "text": "\rEpoch 13:  33%|███▎      | 1/3 [00:00<00:01,  1.39it/s, loss=0.191, v_num=10, val_loss=0.160, train_loss_step=0.174, train_loss_epoch=0.175]",
                    "output_type": "stream"
                },
                {
                    "name": "stdout",
                    "text": "\rEpoch 13:  67%|██████▋   | 2/3 [00:00<00:00,  2.17it/s, loss=0.191, v_num=10, val_loss=0.160, train_loss_step=0.174, train_loss_epoch=0.175]",
                    "output_type": "stream"
                },
                {
                    "name": "stdout",
                    "text": "\rEpoch 13:  67%|██████▋   | 2/3 [00:00<00:00,  2.17it/s, loss=0.189, v_num=10, val_loss=0.160, train_loss_step=0.174, train_loss_epoch=0.175]",
                    "output_type": "stream"
                },
                {
                    "name": "stdout",
                    "text": "\rEpoch 13: 100%|██████████| 3/3 [00:01<00:00,  2.05it/s, loss=0.189, v_num=10, val_loss=0.160, train_loss_step=0.174, train_loss_epoch=0.175]",
                    "output_type": "stream"
                },
                {
                    "name": "stdout",
                    "text": "\n",
                    "output_type": "stream"
                },
                {
                    "name": "stdout",
                    "text": "\rValidating: 0it [00:00, ?it/s]",
                    "output_type": "stream"
                },
                {
                    "name": "stdout",
                    "text": "\u001b[A",
                    "output_type": "stream"
                },
                {
                    "name": "stdout",
                    "text": "\n",
                    "output_type": "stream"
                },
                {
                    "name": "stdout",
                    "text": "\rValidating:   0%|          | 0/1 [00:00<?, ?it/s]",
                    "output_type": "stream"
                },
                {
                    "name": "stdout",
                    "text": "\u001b[A",
                    "output_type": "stream"
                },
                {
                    "name": "stdout",
                    "text": "\n",
                    "output_type": "stream"
                },
                {
                    "name": "stdout",
                    "text": "\rValidating: 100%|██████████| 1/1 [00:00<00:00,  2.32it/s]",
                    "output_type": "stream"
                },
                {
                    "name": "stdout",
                    "text": "\u001b[A",
                    "output_type": "stream"
                },
                {
                    "name": "stdout",
                    "text": "\rEpoch 13: 100%|██████████| 3/3 [00:02<00:00,  1.21it/s, loss=0.189, v_num=10, val_loss=0.159, train_loss_step=0.175, train_loss_epoch=0.174]",
                    "output_type": "stream"
                },
                {
                    "name": "stdout",
                    "text": "\n",
                    "output_type": "stream"
                },
                {
                    "name": "stdout",
                    "text": "\r                                                         ",
                    "output_type": "stream"
                },
                {
                    "name": "stdout",
                    "text": "\u001b[A",
                    "output_type": "stream"
                },
                {
                    "name": "stdout",
                    "text": "\rEpoch 13:   0%|          | 0/3 [00:00<?, ?it/s, loss=0.189, v_num=10, val_loss=0.159, train_loss_step=0.175, train_loss_epoch=0.174]        ",
                    "output_type": "stream"
                },
                {
                    "name": "stdout",
                    "text": "\rEpoch 14:   0%|          | 0/3 [00:00<?, ?it/s, loss=0.189, v_num=10, val_loss=0.159, train_loss_step=0.175, train_loss_epoch=0.174]",
                    "output_type": "stream"
                },
                {
                    "name": "stdout",
                    "text": "\rEpoch 14:  33%|███▎      | 1/3 [00:00<00:01,  1.62it/s, loss=0.189, v_num=10, val_loss=0.159, train_loss_step=0.175, train_loss_epoch=0.174]",
                    "output_type": "stream"
                },
                {
                    "name": "stdout",
                    "text": "\rEpoch 14:  33%|███▎      | 1/3 [00:00<00:01,  1.62it/s, loss=0.187, v_num=10, val_loss=0.159, train_loss_step=0.175, train_loss_epoch=0.174]",
                    "output_type": "stream"
                },
                {
                    "name": "stdout",
                    "text": "\rEpoch 14:  67%|██████▋   | 2/3 [00:00<00:00,  2.38it/s, loss=0.187, v_num=10, val_loss=0.159, train_loss_step=0.175, train_loss_epoch=0.174]",
                    "output_type": "stream"
                },
                {
                    "name": "stdout",
                    "text": "\rEpoch 14:  67%|██████▋   | 2/3 [00:00<00:00,  2.38it/s, loss=0.185, v_num=10, val_loss=0.159, train_loss_step=0.175, train_loss_epoch=0.174]",
                    "output_type": "stream"
                },
                {
                    "name": "stdout",
                    "text": "\rEpoch 14: 100%|██████████| 3/3 [00:01<00:00,  2.05it/s, loss=0.185, v_num=10, val_loss=0.159, train_loss_step=0.175, train_loss_epoch=0.174]",
                    "output_type": "stream"
                },
                {
                    "name": "stdout",
                    "text": "\n",
                    "output_type": "stream"
                },
                {
                    "name": "stdout",
                    "text": "\rValidating: 0it [00:00, ?it/s]",
                    "output_type": "stream"
                },
                {
                    "name": "stdout",
                    "text": "\u001b[A",
                    "output_type": "stream"
                },
                {
                    "name": "stdout",
                    "text": "\n",
                    "output_type": "stream"
                },
                {
                    "name": "stdout",
                    "text": "\rValidating:   0%|          | 0/1 [00:00<?, ?it/s]",
                    "output_type": "stream"
                },
                {
                    "name": "stdout",
                    "text": "\u001b[A",
                    "output_type": "stream"
                },
                {
                    "name": "stdout",
                    "text": "\n",
                    "output_type": "stream"
                },
                {
                    "name": "stdout",
                    "text": "\rValidating: 100%|██████████| 1/1 [00:00<00:00,  2.50it/s]",
                    "output_type": "stream"
                },
                {
                    "name": "stdout",
                    "text": "\u001b[A",
                    "output_type": "stream"
                },
                {
                    "name": "stdout",
                    "text": "\rEpoch 14: 100%|██████████| 3/3 [00:02<00:00,  1.20it/s, loss=0.185, v_num=10, val_loss=0.152, train_loss_step=0.173, train_loss_epoch=0.174]",
                    "output_type": "stream"
                },
                {
                    "name": "stdout",
                    "text": "\n",
                    "output_type": "stream"
                },
                {
                    "name": "stdout",
                    "text": "\r                                                         ",
                    "output_type": "stream"
                },
                {
                    "name": "stdout",
                    "text": "\u001b[A",
                    "output_type": "stream"
                },
                {
                    "name": "stdout",
                    "text": "\rEpoch 14:   0%|          | 0/3 [00:00<?, ?it/s, loss=0.185, v_num=10, val_loss=0.152, train_loss_step=0.173, train_loss_epoch=0.174]        ",
                    "output_type": "stream"
                },
                {
                    "name": "stdout",
                    "text": "\rEpoch 15:   0%|          | 0/3 [00:00<?, ?it/s, loss=0.185, v_num=10, val_loss=0.152, train_loss_step=0.173, train_loss_epoch=0.174]",
                    "output_type": "stream"
                },
                {
                    "name": "stdout",
                    "text": "\rEpoch 15:  33%|███▎      | 1/3 [00:00<00:01,  1.51it/s, loss=0.185, v_num=10, val_loss=0.152, train_loss_step=0.173, train_loss_epoch=0.174]",
                    "output_type": "stream"
                },
                {
                    "name": "stdout",
                    "text": "\rEpoch 15:  33%|███▎      | 1/3 [00:00<00:01,  1.51it/s, loss=0.183, v_num=10, val_loss=0.152, train_loss_step=0.173, train_loss_epoch=0.174]",
                    "output_type": "stream"
                },
                {
                    "name": "stdout",
                    "text": "\rEpoch 15:  67%|██████▋   | 2/3 [00:00<00:00,  2.29it/s, loss=0.183, v_num=10, val_loss=0.152, train_loss_step=0.173, train_loss_epoch=0.174]",
                    "output_type": "stream"
                },
                {
                    "name": "stdout",
                    "text": "\rEpoch 15:  67%|██████▋   | 2/3 [00:00<00:00,  2.29it/s, loss=0.182, v_num=10, val_loss=0.152, train_loss_step=0.170, train_loss_epoch=0.174]",
                    "output_type": "stream"
                },
                {
                    "name": "stdout",
                    "text": "\rEpoch 15: 100%|██████████| 3/3 [00:01<00:00,  1.94it/s, loss=0.182, v_num=10, val_loss=0.152, train_loss_step=0.170, train_loss_epoch=0.174]",
                    "output_type": "stream"
                },
                {
                    "name": "stdout",
                    "text": "\n",
                    "output_type": "stream"
                },
                {
                    "name": "stdout",
                    "text": "\rValidating: 0it [00:00, ?it/s]",
                    "output_type": "stream"
                },
                {
                    "name": "stdout",
                    "text": "\u001b[A",
                    "output_type": "stream"
                },
                {
                    "name": "stdout",
                    "text": "\n",
                    "output_type": "stream"
                },
                {
                    "name": "stdout",
                    "text": "\rValidating:   0%|          | 0/1 [00:00<?, ?it/s]",
                    "output_type": "stream"
                },
                {
                    "name": "stdout",
                    "text": "\u001b[A",
                    "output_type": "stream"
                },
                {
                    "name": "stdout",
                    "text": "\n",
                    "output_type": "stream"
                },
                {
                    "name": "stdout",
                    "text": "\rValidating: 100%|██████████| 1/1 [00:00<00:00,  2.30it/s]",
                    "output_type": "stream"
                },
                {
                    "name": "stdout",
                    "text": "\u001b[A",
                    "output_type": "stream"
                },
                {
                    "name": "stdout",
                    "text": "\rEpoch 15: 100%|██████████| 3/3 [00:02<00:00,  1.14it/s, loss=0.182, v_num=10, val_loss=0.150, train_loss_step=0.177, train_loss_epoch=0.173]",
                    "output_type": "stream"
                },
                {
                    "name": "stdout",
                    "text": "\n",
                    "output_type": "stream"
                },
                {
                    "name": "stdout",
                    "text": "\r                                                         ",
                    "output_type": "stream"
                },
                {
                    "name": "stdout",
                    "text": "\u001b[A",
                    "output_type": "stream"
                },
                {
                    "name": "stdout",
                    "text": "\rEpoch 15: 100%|██████████| 3/3 [00:02<00:00,  1.13it/s, loss=0.182, v_num=10, val_loss=0.150, train_loss_step=0.177, train_loss_epoch=0.173]",
                    "output_type": "stream"
                },
                {
                    "name": "stdout",
                    "text": "\n",
                    "output_type": "stream"
                },
                {
                    "data": {
                        "text/plain": "1"
                    },
                    "metadata": {},
                    "execution_count": 190,
                    "output_type": "execute_result"
                }
            ],
            "execution_count": 190
        },
        {
            "cell_type": "code",
            "source": [
                "# Best performing model \n",
                "best_model_path = trainer.checkpoint_callback.best_model_path\n",
                "best_tft = TemporalFusionTransformer.load_from_checkpoint(best_model_path)\n",
                "\n",
                "# calcualte mean absolute error on validation set\n",
                "actuals = torch.cat([y[0] for x, y in iter(val_dataloader)])\n",
                "predictions = best_tft.predict(val_dataloader)\n",
                "(actuals - predictions).abs().mean()"
            ],
            "metadata": {
                "azdata_cell_guid": "e299b07d-9cb3-4efa-bc4e-8048d97f6b15"
            },
            "outputs": [
                {
                    "traceback": [
                        "\u001b[0;31m---------------------------------------------------------------------------\u001b[0m",
                        "\u001b[0;31mIsADirectoryError\u001b[0m                         Traceback (most recent call last)",
                        "\u001b[0;32m<ipython-input-198-60c2c04ba5de>\u001b[0m in \u001b[0;36m<module>\u001b[0;34m\u001b[0m\n\u001b[1;32m      1\u001b[0m \u001b[0;31m# Best performing model\u001b[0m\u001b[0;34m\u001b[0m\u001b[0;34m\u001b[0m\u001b[0m\n\u001b[1;32m      2\u001b[0m \u001b[0mbest_model_path\u001b[0m \u001b[0;34m=\u001b[0m \u001b[0mtrainer\u001b[0m\u001b[0;34m.\u001b[0m\u001b[0mcheckpoint_callback\u001b[0m\u001b[0;34m.\u001b[0m\u001b[0mbest_model_path\u001b[0m\u001b[0;34m\u001b[0m\u001b[0m\n\u001b[0;32m----> 3\u001b[0;31m \u001b[0mbest_tft\u001b[0m \u001b[0;34m=\u001b[0m \u001b[0mTemporalFusionTransformer\u001b[0m\u001b[0;34m.\u001b[0m\u001b[0mload_from_checkpoint\u001b[0m\u001b[0;34m(\u001b[0m\u001b[0mbest_model_path\u001b[0m\u001b[0;34m)\u001b[0m\u001b[0;34m\u001b[0m\u001b[0m\n\u001b[0m\u001b[1;32m      4\u001b[0m \u001b[0;34m\u001b[0m\u001b[0m\n\u001b[1;32m      5\u001b[0m \u001b[0;31m# calcualte mean absolute error on validation set\u001b[0m\u001b[0;34m\u001b[0m\u001b[0;34m\u001b[0m\u001b[0m\n",
                        "\u001b[0;32m~/azuredatastudio-python/0.0.1/lib/python3.6/site-packages/pytorch_lightning/core/saving.py\u001b[0m in \u001b[0;36mload_from_checkpoint\u001b[0;34m(cls, checkpoint_path, map_location, hparams_file, strict, **kwargs)\u001b[0m\n\u001b[1;32m    132\u001b[0m             \u001b[0mcheckpoint\u001b[0m \u001b[0;34m=\u001b[0m \u001b[0mpl_load\u001b[0m\u001b[0;34m(\u001b[0m\u001b[0mcheckpoint_path\u001b[0m\u001b[0;34m,\u001b[0m \u001b[0mmap_location\u001b[0m\u001b[0;34m=\u001b[0m\u001b[0mmap_location\u001b[0m\u001b[0;34m)\u001b[0m\u001b[0;34m\u001b[0m\u001b[0m\n\u001b[1;32m    133\u001b[0m         \u001b[0;32melse\u001b[0m\u001b[0;34m:\u001b[0m\u001b[0;34m\u001b[0m\u001b[0m\n\u001b[0;32m--> 134\u001b[0;31m             \u001b[0mcheckpoint\u001b[0m \u001b[0;34m=\u001b[0m \u001b[0mpl_load\u001b[0m\u001b[0;34m(\u001b[0m\u001b[0mcheckpoint_path\u001b[0m\u001b[0;34m,\u001b[0m \u001b[0mmap_location\u001b[0m\u001b[0;34m=\u001b[0m\u001b[0;32mlambda\u001b[0m \u001b[0mstorage\u001b[0m\u001b[0;34m,\u001b[0m \u001b[0mloc\u001b[0m\u001b[0;34m:\u001b[0m \u001b[0mstorage\u001b[0m\u001b[0;34m)\u001b[0m\u001b[0;34m\u001b[0m\u001b[0m\n\u001b[0m\u001b[1;32m    135\u001b[0m \u001b[0;34m\u001b[0m\u001b[0m\n\u001b[1;32m    136\u001b[0m         \u001b[0;32mif\u001b[0m \u001b[0mhparams_file\u001b[0m \u001b[0;32mis\u001b[0m \u001b[0;32mnot\u001b[0m \u001b[0;32mNone\u001b[0m\u001b[0;34m:\u001b[0m\u001b[0;34m\u001b[0m\u001b[0m\n",
                        "\u001b[0;32m~/azuredatastudio-python/0.0.1/lib/python3.6/site-packages/pytorch_lightning/utilities/cloud_io.py\u001b[0m in \u001b[0;36mload\u001b[0;34m(path_or_url, map_location)\u001b[0m\n\u001b[1;32m     29\u001b[0m         \u001b[0;32mreturn\u001b[0m \u001b[0mtorch\u001b[0m\u001b[0;34m.\u001b[0m\u001b[0mhub\u001b[0m\u001b[0;34m.\u001b[0m\u001b[0mload_state_dict_from_url\u001b[0m\u001b[0;34m(\u001b[0m\u001b[0mstr\u001b[0m\u001b[0;34m(\u001b[0m\u001b[0mpath_or_url\u001b[0m\u001b[0;34m)\u001b[0m\u001b[0;34m,\u001b[0m \u001b[0mmap_location\u001b[0m\u001b[0;34m=\u001b[0m\u001b[0mmap_location\u001b[0m\u001b[0;34m)\u001b[0m\u001b[0;34m\u001b[0m\u001b[0m\n\u001b[1;32m     30\u001b[0m     \u001b[0mfs\u001b[0m \u001b[0;34m=\u001b[0m \u001b[0mget_filesystem\u001b[0m\u001b[0;34m(\u001b[0m\u001b[0mpath_or_url\u001b[0m\u001b[0;34m)\u001b[0m\u001b[0;34m\u001b[0m\u001b[0m\n\u001b[0;32m---> 31\u001b[0;31m     \u001b[0;32mwith\u001b[0m \u001b[0mfs\u001b[0m\u001b[0;34m.\u001b[0m\u001b[0mopen\u001b[0m\u001b[0;34m(\u001b[0m\u001b[0mpath_or_url\u001b[0m\u001b[0;34m,\u001b[0m \u001b[0;34m\"rb\"\u001b[0m\u001b[0;34m)\u001b[0m \u001b[0;32mas\u001b[0m \u001b[0mf\u001b[0m\u001b[0;34m:\u001b[0m\u001b[0;34m\u001b[0m\u001b[0m\n\u001b[0m\u001b[1;32m     32\u001b[0m         \u001b[0;32mreturn\u001b[0m \u001b[0mtorch\u001b[0m\u001b[0;34m.\u001b[0m\u001b[0mload\u001b[0m\u001b[0;34m(\u001b[0m\u001b[0mf\u001b[0m\u001b[0;34m,\u001b[0m \u001b[0mmap_location\u001b[0m\u001b[0;34m=\u001b[0m\u001b[0mmap_location\u001b[0m\u001b[0;34m)\u001b[0m\u001b[0;34m\u001b[0m\u001b[0m\n\u001b[1;32m     33\u001b[0m \u001b[0;34m\u001b[0m\u001b[0m\n",
                        "\u001b[0;32m~/azuredatastudio-python/0.0.1/lib/python3.6/site-packages/fsspec/spec.py\u001b[0m in \u001b[0;36mopen\u001b[0;34m(self, path, mode, block_size, cache_options, **kwargs)\u001b[0m\n\u001b[1;32m    941\u001b[0m                 \u001b[0mautocommit\u001b[0m\u001b[0;34m=\u001b[0m\u001b[0mac\u001b[0m\u001b[0;34m,\u001b[0m\u001b[0;34m\u001b[0m\u001b[0m\n\u001b[1;32m    942\u001b[0m                 \u001b[0mcache_options\u001b[0m\u001b[0;34m=\u001b[0m\u001b[0mcache_options\u001b[0m\u001b[0;34m,\u001b[0m\u001b[0;34m\u001b[0m\u001b[0m\n\u001b[0;32m--> 943\u001b[0;31m                 \u001b[0;34m**\u001b[0m\u001b[0mkwargs\u001b[0m\u001b[0;34m,\u001b[0m\u001b[0;34m\u001b[0m\u001b[0m\n\u001b[0m\u001b[1;32m    944\u001b[0m             )\n\u001b[1;32m    945\u001b[0m             \u001b[0;32mif\u001b[0m \u001b[0;32mnot\u001b[0m \u001b[0mac\u001b[0m \u001b[0;32mand\u001b[0m \u001b[0;34m\"r\"\u001b[0m \u001b[0;32mnot\u001b[0m \u001b[0;32min\u001b[0m \u001b[0mmode\u001b[0m\u001b[0;34m:\u001b[0m\u001b[0;34m\u001b[0m\u001b[0m\n",
                        "\u001b[0;32m~/azuredatastudio-python/0.0.1/lib/python3.6/site-packages/fsspec/implementations/local.py\u001b[0m in \u001b[0;36m_open\u001b[0;34m(self, path, mode, block_size, **kwargs)\u001b[0m\n\u001b[1;32m    116\u001b[0m         \u001b[0;32mif\u001b[0m \u001b[0mself\u001b[0m\u001b[0;34m.\u001b[0m\u001b[0mauto_mkdir\u001b[0m \u001b[0;32mand\u001b[0m \u001b[0;34m\"w\"\u001b[0m \u001b[0;32min\u001b[0m \u001b[0mmode\u001b[0m\u001b[0;34m:\u001b[0m\u001b[0;34m\u001b[0m\u001b[0m\n\u001b[1;32m    117\u001b[0m             \u001b[0mself\u001b[0m\u001b[0;34m.\u001b[0m\u001b[0mmakedirs\u001b[0m\u001b[0;34m(\u001b[0m\u001b[0mself\u001b[0m\u001b[0;34m.\u001b[0m\u001b[0m_parent\u001b[0m\u001b[0;34m(\u001b[0m\u001b[0mpath\u001b[0m\u001b[0;34m)\u001b[0m\u001b[0;34m,\u001b[0m \u001b[0mexist_ok\u001b[0m\u001b[0;34m=\u001b[0m\u001b[0;32mTrue\u001b[0m\u001b[0;34m)\u001b[0m\u001b[0;34m\u001b[0m\u001b[0m\n\u001b[0;32m--> 118\u001b[0;31m         \u001b[0;32mreturn\u001b[0m \u001b[0mLocalFileOpener\u001b[0m\u001b[0;34m(\u001b[0m\u001b[0mpath\u001b[0m\u001b[0;34m,\u001b[0m \u001b[0mmode\u001b[0m\u001b[0;34m,\u001b[0m \u001b[0mfs\u001b[0m\u001b[0;34m=\u001b[0m\u001b[0mself\u001b[0m\u001b[0;34m,\u001b[0m \u001b[0;34m**\u001b[0m\u001b[0mkwargs\u001b[0m\u001b[0;34m)\u001b[0m\u001b[0;34m\u001b[0m\u001b[0m\n\u001b[0m\u001b[1;32m    119\u001b[0m \u001b[0;34m\u001b[0m\u001b[0m\n\u001b[1;32m    120\u001b[0m     \u001b[0;32mdef\u001b[0m \u001b[0mtouch\u001b[0m\u001b[0;34m(\u001b[0m\u001b[0mself\u001b[0m\u001b[0;34m,\u001b[0m \u001b[0mpath\u001b[0m\u001b[0;34m,\u001b[0m \u001b[0;34m**\u001b[0m\u001b[0mkwargs\u001b[0m\u001b[0;34m)\u001b[0m\u001b[0;34m:\u001b[0m\u001b[0;34m\u001b[0m\u001b[0m\n",
                        "\u001b[0;32m~/azuredatastudio-python/0.0.1/lib/python3.6/site-packages/fsspec/implementations/local.py\u001b[0m in \u001b[0;36m__init__\u001b[0;34m(self, path, mode, autocommit, fs, **kwargs)\u001b[0m\n\u001b[1;32m    198\u001b[0m         \u001b[0mself\u001b[0m\u001b[0;34m.\u001b[0m\u001b[0mautocommit\u001b[0m \u001b[0;34m=\u001b[0m \u001b[0mautocommit\u001b[0m\u001b[0;34m\u001b[0m\u001b[0m\n\u001b[1;32m    199\u001b[0m         \u001b[0mself\u001b[0m\u001b[0;34m.\u001b[0m\u001b[0mblocksize\u001b[0m \u001b[0;34m=\u001b[0m \u001b[0mio\u001b[0m\u001b[0;34m.\u001b[0m\u001b[0mDEFAULT_BUFFER_SIZE\u001b[0m\u001b[0;34m\u001b[0m\u001b[0m\n\u001b[0;32m--> 200\u001b[0;31m         \u001b[0mself\u001b[0m\u001b[0;34m.\u001b[0m\u001b[0m_open\u001b[0m\u001b[0;34m(\u001b[0m\u001b[0;34m)\u001b[0m\u001b[0;34m\u001b[0m\u001b[0m\n\u001b[0m\u001b[1;32m    201\u001b[0m \u001b[0;34m\u001b[0m\u001b[0m\n\u001b[1;32m    202\u001b[0m     \u001b[0;32mdef\u001b[0m \u001b[0m_open\u001b[0m\u001b[0;34m(\u001b[0m\u001b[0mself\u001b[0m\u001b[0;34m)\u001b[0m\u001b[0;34m:\u001b[0m\u001b[0;34m\u001b[0m\u001b[0m\n",
                        "\u001b[0;32m~/azuredatastudio-python/0.0.1/lib/python3.6/site-packages/fsspec/implementations/local.py\u001b[0m in \u001b[0;36m_open\u001b[0;34m(self)\u001b[0m\n\u001b[1;32m    203\u001b[0m         \u001b[0;32mif\u001b[0m \u001b[0mself\u001b[0m\u001b[0;34m.\u001b[0m\u001b[0mf\u001b[0m \u001b[0;32mis\u001b[0m \u001b[0;32mNone\u001b[0m \u001b[0;32mor\u001b[0m \u001b[0mself\u001b[0m\u001b[0;34m.\u001b[0m\u001b[0mf\u001b[0m\u001b[0;34m.\u001b[0m\u001b[0mclosed\u001b[0m\u001b[0;34m:\u001b[0m\u001b[0;34m\u001b[0m\u001b[0m\n\u001b[1;32m    204\u001b[0m             \u001b[0;32mif\u001b[0m \u001b[0mself\u001b[0m\u001b[0;34m.\u001b[0m\u001b[0mautocommit\u001b[0m \u001b[0;32mor\u001b[0m \u001b[0;34m\"w\"\u001b[0m \u001b[0;32mnot\u001b[0m \u001b[0;32min\u001b[0m \u001b[0mself\u001b[0m\u001b[0;34m.\u001b[0m\u001b[0mmode\u001b[0m\u001b[0;34m:\u001b[0m\u001b[0;34m\u001b[0m\u001b[0m\n\u001b[0;32m--> 205\u001b[0;31m                 \u001b[0mself\u001b[0m\u001b[0;34m.\u001b[0m\u001b[0mf\u001b[0m \u001b[0;34m=\u001b[0m \u001b[0mopen\u001b[0m\u001b[0;34m(\u001b[0m\u001b[0mself\u001b[0m\u001b[0;34m.\u001b[0m\u001b[0mpath\u001b[0m\u001b[0;34m,\u001b[0m \u001b[0mmode\u001b[0m\u001b[0;34m=\u001b[0m\u001b[0mself\u001b[0m\u001b[0;34m.\u001b[0m\u001b[0mmode\u001b[0m\u001b[0;34m)\u001b[0m\u001b[0;34m\u001b[0m\u001b[0m\n\u001b[0m\u001b[1;32m    206\u001b[0m             \u001b[0;32melse\u001b[0m\u001b[0;34m:\u001b[0m\u001b[0;34m\u001b[0m\u001b[0m\n\u001b[1;32m    207\u001b[0m                 \u001b[0;31m# TODO: check if path is writable?\u001b[0m\u001b[0;34m\u001b[0m\u001b[0;34m\u001b[0m\u001b[0m\n",
                        "\u001b[0;31mIsADirectoryError\u001b[0m: [Errno 21] Is a directory: '/Users/aayush/Documents/Run4It/Run4It/Model'"
                    ],
                    "ename": "IsADirectoryError",
                    "evalue": "[Errno 21] Is a directory: '/Users/aayush/Documents/Run4It/Run4It/Model'",
                    "output_type": "error"
                }
            ],
            "execution_count": 198
        },
        {
            "cell_type": "code",
            "source": [
                "# raw predictions are a dictionary from which all kind of information including quantiles can be extracted\n",
                "raw_predictions, x = best_tft.predict(val_dataloader, mode=\"raw\", return_x=True)"
            ],
            "metadata": {
                "azdata_cell_guid": "8ba37489-6d5d-410b-9494-f7058b68e9cc"
            },
            "outputs": [],
            "execution_count": 187
        },
        {
            "cell_type": "code",
            "source": [
                "best_tft.plot_prediction(x, raw_predictions, idx=0, add_loss_to_title=True)"
            ],
            "metadata": {
                "azdata_cell_guid": "ffb106ce-a6dc-4085-ad5f-e07d0bd55b19"
            },
            "outputs": [
                {
                    "data": {
                        "text/plain": "<Figure size 864x576 with 2 Axes>",
                        "image/png": "[encoded data removed]"
                    },
                    "metadata": {
                        "needs_background": "light"
                    },
                    "output_type": "display_data"
                },
                {
                    "data": {
                        "text/plain": "<Figure size 864x576 with 2 Axes>",
                        "image/png": "[encoded data removed]"
                    },
                    "metadata": {},
                    "execution_count": 188,
                    "output_type": "execute_result"
                }
            ],
            "execution_count": 188
        }
    ]
}