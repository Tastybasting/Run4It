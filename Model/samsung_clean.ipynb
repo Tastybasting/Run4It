{
    "metadata": {
        "kernelspec": {
            "name": "python3",
            "display_name": "Python 3",
            "language": "python"
        },
        "language_info": {
            "name": "python",
            "version": "3.6.6",
            "mimetype": "text/x-python",
            "codemirror_mode": {
                "name": "ipython",
                "version": 3
            },
            "pygments_lexer": "ipython3",
            "nbconvert_exporter": "python",
            "file_extension": ".py"
        }
    },
    "nbformat_minor": 2,
    "nbformat": 4,
    "cells": [
        {
            "cell_type": "code",
            "source": [
                "import pandas as pd\n",
                "import numpy as np \n",
                "import matplotlib as plt\n",
                "import datetime"
            ],
            "metadata": {
                "azdata_cell_guid": "e7f59d99-9d32-4a82-8a99-b6b00deef6eb"
            },
            "outputs": [],
            "execution_count": 6
        },
        {
            "cell_type": "markdown",
            "source": [
                "## Imports\n",
                "\n",
                "As a first step, we will import all the required data and set the appropriate data types."
            ],
            "metadata": {
                "azdata_cell_guid": "12ad0b17-8510-4ea6-ae97-087a62ec703e"
            }
        },
        {
            "cell_type": "code",
            "source": [
                "# -------------------------------------------------------\n",
                "#                       Imports \n",
                "# ------------------------------------------------------\n",
                "\n",
                "# Load necessary data\n",
                "def convert_dates(df, date_cols, date_format):\n",
                "    for col in date_cols:\n",
                "        df[col] = pd.to_datetime(df[col], format=date_format)\n",
                "    return df\n",
                "\n",
                "# -------------------- User weight and height ------------------------ #\n",
                "weight = pd.read_csv('Data/samsunghealth_nevzad.nuhiu_202103172116/com.samsung.health.weight.202103172116.csv', \n",
                "                      skiprows=[0], \n",
                "                      index_col=False)\n",
                "weight = convert_dates(weight, ['start_time', 'create_time', 'update_time'], '%Y-%m-%d %H:%M:%S')\n",
                "\n",
                "# --------------------- Heart rate ----------------------------------- #\n",
                "heart_rate = pd.read_csv('Data/samsunghealth_nevzad.nuhiu_202103172116/com.samsung.shealth.tracker.heart_rate.202103172116.csv', \n",
                "                          skiprows=[0],\n",
                "                          index_col=False)\n",
                "heart_date_cols = ['com.samsung.health.heart_rate.start_time', \n",
                "                    'com.samsung.health.heart_rate.update_time', \n",
                "                    'com.samsung.health.heart_rate.create_time', \n",
                "                    'com.samsung.health.heart_rate.end_time']\n",
                "heart_rate = convert_dates(heart_rate, heart_date_cols, '%Y-%m-%d %H:%M:%S')\n",
                "\n",
                "# --------------------- Step daily trend: speed, distance, calories ---------------------------- #\n",
                "\n",
                "steps = pd.read_csv('Data/samsunghealth_nevzad.nuhiu_202103172116/com.samsung.shealth.tracker.pedometer_day_summary.202103172116.csv', \n",
                "                          skiprows=[0],\n",
                "                          index_col=False)\n",
                "steps_date_cols = ['update_time', 'create_time']\n",
                "steps = convert_dates(steps, steps_date_cols, '%Y-%m-%d %H:%M:%S')\n",
                "\n",
                "# -------------------------- Sleep data ----------------------------- # \n",
                "\n",
                "sleep = pd.read_csv('Data/samsunghealth_nevzad.nuhiu_202103172116/com.samsung.shealth.sleep.202103172116.csv', \n",
                "                          skiprows=[0],\n",
                "                          index_col=False)\n",
                "\n",
                "sleep_date_cols = ['com.samsung.health.sleep.start_time', 'com.samsung.health.sleep.create_time', 'com.samsung.health.sleep.end_time', 'com.samsung.health.sleep.update_time']\n",
                "sleep = convert_dates(sleep, sleep_date_cols, '%Y-%m-%d %H:%M:%S')\n",
                "sleep.info()"
            ],
            "metadata": {
                "azdata_cell_guid": "e5c8e0e3-a125-4672-9f48-9fb6fd6b9e1b"
            },
            "outputs": [
                {
                    "name": "stdout",
                    "text": "<class 'pandas.core.frame.DataFrame'>\nRangeIndex: 712 entries, 0 to 711\nData columns (total 35 columns):\n #   Column                                Non-Null Count  Dtype         \n---  ------                                --------------  -----         \n 0   original_efficiency                   0 non-null      float64       \n 1   mental_recovery                       286 non-null    float64       \n 2   factor_01                             286 non-null    float64       \n 3   factor_02                             286 non-null    float64       \n 4   factor_03                             286 non-null    float64       \n 5   factor_04                             286 non-null    float64       \n 6   factor_05                             286 non-null    float64       \n 7   factor_06                             286 non-null    float64       \n 8   factor_07                             286 non-null    float64       \n 9   factor_08                             286 non-null    float64       \n 10  factor_09                             286 non-null    float64       \n 11  factor_10                             286 non-null    float64       \n 12  has_sleep_data                        712 non-null    int64         \n 13  combined_id                           0 non-null      float64       \n 14  data_version                          0 non-null      float64       \n 15  physical_recovery                     286 non-null    float64       \n 16  original_wake_up_time                 0 non-null      float64       \n 17  movement_awakening                    286 non-null    float64       \n 18  original_bed_time                     0 non-null      float64       \n 19  quality                               0 non-null      float64       \n 20  extra_data                            712 non-null    object        \n 21  sleep_cycle                           246 non-null    float64       \n 22  efficiency                            712 non-null    float64       \n 23  sleep_score                           286 non-null    float64       \n 24  sleep_duration                        286 non-null    float64       \n 25  com.samsung.health.sleep.start_time   712 non-null    datetime64[ns]\n 26  com.samsung.health.sleep.custom       0 non-null      float64       \n 27  com.samsung.health.sleep.update_time  712 non-null    datetime64[ns]\n 28  com.samsung.health.sleep.create_time  712 non-null    datetime64[ns]\n 29  com.samsung.health.sleep.time_offset  712 non-null    object        \n 30  com.samsung.health.sleep.deviceuuid   712 non-null    object        \n 31  com.samsung.health.sleep.comment      0 non-null      float64       \n 32  com.samsung.health.sleep.pkg_name     712 non-null    object        \n 33  com.samsung.health.sleep.end_time     712 non-null    datetime64[ns]\n 34  com.samsung.health.sleep.datauuid     712 non-null    object        \ndtypes: datetime64[ns](4), float64(25), int64(1), object(5)\nmemory usage: 194.8+ KB\n",
                    "output_type": "stream"
                }
            ],
            "execution_count": 7
        },
        {
            "cell_type": "code",
            "source": [
                "# -------------------------------------------------------------------- #\n",
                "#                           Data Validation \n",
                "# -------------------------------------------------------------------- #\n",
                "\n",
                "# temporal validation, to make sure indices are sorted \n",
                "\n",
                "# --------------------------- heart rate -------------------------------------- #\n",
                "heart_rate = heart_rate.sort_values(by='com.samsung.health.heart_rate.start_time')\n",
                "heart_rate = heart_rate[['com.samsung.health.heart_rate.start_time', 'com.samsung.health.heart_rate.heart_rate']]\n",
                "heart_rate = heart_rate.groupby(heart_rate['com.samsung.health.heart_rate.start_time'].dt.date).mean().reset_index()\n",
                "heart_rate = convert_dates(heart_rate, ['com.samsung.health.heart_rate.start_time'], '%Y-%m-%d')\n",
                "\n",
                "# ------------------------- daily trend: speed, distance, calories ------------- # \n",
                "steps['date_time'] = steps['day_time'].apply(lambda d: datetime.datetime.fromtimestamp(d / 1e3))\n",
                "steps = steps.sort_values(by='date_time')\n",
                "steps = steps[['date_time', 'run_step_count', 'walk_step_count', 'speed', 'distance', 'calorie']]\n",
                "steps = steps.groupby(steps['date_time'].dt.date).mean().reset_index()\n",
                "steps = convert_dates(steps, ['date_time'], '%Y-%m-%d')\n",
                "\n",
                "# -------------------------- sleep data ---------------------------------------- #\n",
                "sleep = sleep.sort_values(by='com.samsung.health.sleep.start_time')\n",
                "sleep = sleep[['com.samsung.health.sleep.start_time', 'efficiency', 'extra_data']]\n",
                "sleep = sleep.groupby(sleep['com.samsung.health.sleep.start_time'].dt.date).mean().reset_index()\n",
                "sleep = convert_dates(sleep, ['com.samsung.health.sleep.start_time'], '%Y-%m-%d')\n",
                "\n",
                "# get min and max dates\n",
                "print(heart_rate['com.samsung.health.heart_rate.start_time'].iloc[0], heart_rate['com.samsung.health.heart_rate.start_time'].iloc[-1])\n",
                "print(steps['date_time'].iloc[0], steps['date_time'].iloc[-1])\n",
                "print(sleep['com.samsung.health.sleep.start_time'].iloc[0], sleep['com.samsung.health.sleep.start_time'].iloc[-1])\n",
                "\n",
                "min_date = '2020-03-24'\n",
                "max_date = '2021-03-17'\n",
                "\n",
                "# get time intervals for the different datasets \n",
                "heart_rate['interval'] = heart_rate['com.samsung.health.heart_rate.start_time'] - heart_rate['com.samsung.health.heart_rate.start_time'].shift(1)\n",
                "print(heart_rate['interval'].value_counts())\n",
                "\n",
                "steps['interval'] = steps['date_time'] - steps['date_time'].shift(1)\n",
                "print(steps['interval'].value_counts())\n",
                "\n",
                "sleep['interval'] = sleep['com.samsung.health.sleep.start_time'] - sleep['com.samsung.health.sleep.start_time'].shift(1)\n",
                "print(sleep['interval'].value_counts())"
            ],
            "metadata": {
                "azdata_cell_guid": "8e0977a6-89e2-4a8b-9dd8-9fb5656a0955"
            },
            "outputs": [
                {
                    "name": "stdout",
                    "text": "2020-03-24 00:00:00 2021-03-14 00:00:00\n2020-03-24 00:00:00 2021-03-17 00:00:00\n2020-03-24 00:00:00 2021-03-17 00:00:00\n1 days     285\n2 days       2\n3 days       1\n6 days       1\n26 days      1\n10 days      1\n16 days      1\n5 days       1\nName: interval, dtype: int64\n1 days    354\n4 days      1\nName: interval, dtype: int64\n1 days     305\n2 days       6\n3 days       1\n26 days      1\n12 days      1\nName: interval, dtype: int64\n",
                    "output_type": "stream"
                }
            ],
            "execution_count": 8
        },
        {
            "cell_type": "code",
            "source": [
                "# Sample by day would be most appropriate  \n",
                "date_range = pd.DataFrame(pd.date_range(start=min_date, end=max_date), columns=['date'])\n",
                "full = date_range.merge(heart_rate, how='left', left_on='date', right_on='com.samsung.health.heart_rate.start_time', validate='one_to_one')\\\n",
                "                 .merge(steps, how='left', left_on='date', right_on='date_time', validate='one_to_one')\\\n",
                "                 .merge(sleep, how='left', left_on='date', right_on='com.samsung.health.sleep.start_time', validate='one_to_one')\n",
                "print(full.columns)\n",
                "full = full[['date', \n",
                "            'com.samsung.health.heart_rate.heart_rate', \n",
                "            'run_step_count', \n",
                "            'walk_step_count', \n",
                "            'speed', \n",
                "            'distance', \n",
                "            'calorie', \n",
                "            'efficiency']]"
            ],
            "metadata": {
                "azdata_cell_guid": "3f449432-6faa-4706-907c-c7ecf2d5a620"
            },
            "outputs": [
                {
                    "name": "stdout",
                    "text": "Index(['date', 'com.samsung.health.heart_rate.start_time',\n       'com.samsung.health.heart_rate.heart_rate', 'interval_x', 'date_time',\n       'run_step_count', 'walk_step_count', 'speed', 'distance', 'calorie',\n       'interval_y', 'com.samsung.health.sleep.start_time', 'efficiency',\n       'interval'],\n      dtype='object')\n",
                    "output_type": "stream"
                }
            ],
            "execution_count": 9
        },
        {
            "cell_type": "code",
            "source": [
                "# Look at missing values \n",
                "for col in full.columns:\n",
                "    full[col] = full[col].interpolate()\n",
                "\n",
                "full.to_csv('Data/samsung_dataset.csv', index=False)"
            ],
            "metadata": {
                "azdata_cell_guid": "1c9a169d-443d-437e-ae9f-7781bbcaf6ad"
            },
            "outputs": [],
            "execution_count": 10
        }
    ]
}